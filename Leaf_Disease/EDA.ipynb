{
  "nbformat": 4,
  "nbformat_minor": 0,
  "metadata": {
    "colab": {
      "provenance": [],
      "authorship_tag": "ABX9TyMRndAM39EfQfCNaEY58MgE"
    },
    "kernelspec": {
      "name": "python3",
      "display_name": "Python 3"
    },
    "language_info": {
      "name": "python"
    }
  },
  "cells": [
    {
      "cell_type": "code",
      "execution_count": 1,
      "metadata": {
        "colab": {
          "base_uri": "https://localhost:8080/"
        },
        "id": "RyWxkAzmzGjo",
        "outputId": "d1e51f5c-92f1-4cdf-e1f7-69e388c5b6d8"
      },
      "outputs": [
        {
          "output_type": "stream",
          "name": "stdout",
          "text": [
            "Downloading from https://www.kaggle.com/api/v1/datasets/download/sizlingdhairya1/leaf-disease?dataset_version_number=1...\n"
          ]
        },
        {
          "output_type": "stream",
          "name": "stderr",
          "text": [
            "100%|██████████| 3.75M/3.75M [00:00<00:00, 4.13MB/s]"
          ]
        },
        {
          "output_type": "stream",
          "name": "stdout",
          "text": [
            "Extracting files...\n",
            "Path to dataset files: /root/.cache/kagglehub/datasets/sizlingdhairya1/leaf-disease/versions/1\n"
          ]
        },
        {
          "output_type": "stream",
          "name": "stderr",
          "text": [
            "\n"
          ]
        }
      ],
      "source": [
        "import kagglehub\n",
        "\n",
        "# Download latest version\n",
        "path = kagglehub.dataset_download(\"sizlingdhairya1/leaf-disease\")\n",
        "\n",
        "print(\"Path to dataset files:\", path)"
      ]
    },
    {
      "cell_type": "code",
      "source": [
        "! mkdir kaggle\n",
        "! cp -a $path/. kaggle/"
      ],
      "metadata": {
        "id": "hQ6ELBkbwzjN"
      },
      "execution_count": 2,
      "outputs": []
    },
    {
      "cell_type": "code",
      "source": [
        "BASE_DIR = 'kaggle/Datasets'"
      ],
      "metadata": {
        "id": "toh0NusFyDTH"
      },
      "execution_count": 3,
      "outputs": []
    },
    {
      "cell_type": "code",
      "source": [
        "! ls $BASE_DIR"
      ],
      "metadata": {
        "colab": {
          "base_uri": "https://localhost:8080/"
        },
        "id": "nOraMA7z0qgp",
        "outputId": "ef619c43-7d33-444e-f714-f2fe63d33f9e"
      },
      "execution_count": 4,
      "outputs": [
        {
          "output_type": "stream",
          "name": "stdout",
          "text": [
            "Bacteria  Fungi  Nematodes  Normal  Virus\n"
          ]
        }
      ]
    },
    {
      "cell_type": "markdown",
      "source": [
        "## Create more images by rotating and reflecting"
      ],
      "metadata": {
        "id": "w5JLHY8M_Kvc"
      }
    },
    {
      "cell_type": "code",
      "source": [
        "! ls $BASE_DIR/Bacteria"
      ],
      "metadata": {
        "id": "YWRan1AgrQU_",
        "outputId": "0ae87012-766c-47f2-df71-0a8e777f9037",
        "colab": {
          "base_uri": "https://localhost:8080/"
        }
      },
      "execution_count": 5,
      "outputs": [
        {
          "output_type": "stream",
          "name": "stdout",
          "text": [
            "'01a66316-0e98-4d3b-a56f-d78752cd043f___FREC_Scab 3003.JPG'\n",
            "'01f3deaa-6143-4b6c-9c22-620a46d8be04___FREC_Scab 3112.JPG'\n",
            "'03eccb1a-0368-4ac7-9f48-7546037b775a___FREC_Scab 3334.JPG'\n",
            "'0b170906-9436-4c0d-84c1-c396ad9d909b___FREC_Scab 3101.JPG'\n",
            "'0b4a52e3-e15e-4117-b2e8-7cdb5dca3ce9___FREC_Scab 3137.JPG'\n",
            "'0c620ec5-11cf-4120-94ab-1311e99df147___FREC_Scab 3131.JPG'\n",
            "'0cbfa4fa-63d8-43ce-9385-ff140e524b69___FREC_Scab 3164.JPG'\n",
            "'0d3c0790-7833-470b-ac6e-94d0a3bf3e7c___FREC_Scab 2959.JPG'\n",
            "'0d8d5b80-962d-4381-8d3b-9eca3f2f1bb0___FREC_Scab 3449.JPG'\n",
            "'0db71c1d-93d7-4481-b0d0-b73f995131a9___FREC_Scab 2976.JPG'\n",
            "'0e90fe4a-e8b6-4186-9429-a9fea180af9a___FREC_Scab 3391.JPG'\n",
            "'0ea78733-9404-4536-8793-a108c66269b3___FREC_Scab 3145.JPG'\n",
            "'1a21aabb-6f74-4644-8d9e-a517568b7e9c___FREC_Scab 3095.JPG'\n",
            "'1a304331-98b5-473f-bbb1-c33b8441052a___FREC_Scab 3296.JPG'\n",
            "'1a4047d7-23d6-4bba-ba10-b6e7005ea01b___FREC_Scab 3193.JPG'\n",
            "'1a41bab0-45e0-4dda-a798-9bf4a998f1b6___FREC_Scab 3450.JPG'\n",
            "'1b1004c8-99e9-4c85-8fe5-b1c11d558cf8___FREC_Scab 3300.JPG'\n",
            "'1bc60205-27cc-4d10-bc87-7e968573e5d5___FREC_Scab 3531.JPG'\n",
            "'1bcc3b5d-7e00-43fb-983e-95ae271a715b___FREC_Scab 3061.JPG'\n",
            "'1c10ab31-02b9-4008-b66f-9b44d8a9d323___FREC_Scab 3084.JPG'\n",
            "'1cb869ea-0a4c-47d7-9def-a88c16b72ddc___FREC_Scab 3350.JPG'\n",
            "'1cdf2779-8cb1-4ae4-be70-b0eeb1abb0f8___FREC_Scab 3370.JPG'\n",
            "'1ceeeee0-40bd-4ac9-8a57-59385bf5df8a___FREC_Scab 3001.JPG'\n",
            "'1d81b4c1-072d-4cf7-b1ca-ce43f59822d8___FREC_Scab 3406.JPG'\n",
            "'1d9d67e2-5603-4710-ae2b-6cb0b922ae61___FREC_Scab 3122.JPG'\n",
            "'1f6abf22-93fa-48f0-a509-cc3e210f75f0___FREC_Scab 3172.JPG'\n",
            "'1f97d75c-db85-4344-8687-82ca56454d17___FREC_Scab 3408.JPG'\n",
            "'1f98b949-4df2-45cf-8572-3b4a753be21a___FREC_Scab 2907.JPG'\n",
            "'2a59761b-c91c-451c-8e13-d9dc3aff8d29___FREC_Scab 3503.JPG'\n",
            "'2a800c84-902e-4aa8-af13-4e020d6f17dd___FREC_Scab 3124.JPG'\n",
            "'2a97b29d-8a63-47ab-bd5b-c14832a586c8___FREC_Scab 3242.JPG'\n",
            "'2ae81857-0615-4a6a-8d13-1ace0c62284d___FREC_Scab 2992.JPG'\n",
            "'2bc018ba-3c49-4cf4-9411-a93b7b196f45___FREC_Scab 3326.JPG'\n",
            "'2bc50b52-0d7d-41a3-be8a-8d070341d87f___FREC_Scab 3476.JPG'\n",
            "'2bfd8ee0-af6b-42fd-ae61-fc5e92ec1b67___FREC_Scab 2988.JPG'\n",
            "'2c648fcd-d637-4559-beaa-9dd6079646fb___FREC_Scab 3213.JPG'\n",
            "'2c7ca7c8-1a6c-4811-b9b0-b054c11a5397___FREC_Scab 3260.JPG'\n",
            "'2c89ceaf-748c-4371-80d0-d01855f04a92___FREC_Scab 2962.JPG'\n",
            "'2d329823-7ad5-4189-89b7-4bdf24f9c393___FREC_Scab 3507.JPG'\n",
            "'2d4c8a12-a34c-4c8b-b357-271d87532ece___FREC_Scab 3090.JPG'\n",
            "'2d5265d2-be99-4e9f-a085-d309cc01b751___FREC_Scab 3023.JPG'\n",
            "'2dd8b8f8-46b0-4bc6-b817-ea7163f4b28b___FREC_Scab 3473.JPG'\n",
            "'2e264ee0-7679-4ad2-a19a-1ac4d2e84079___FREC_Scab 2984.JPG'\n",
            "'2f1e68c0-c059-46fd-bbf3-f160817abdc3___FREC_Scab 3535.JPG'\n",
            "'2f668a95-80ab-40ac-98ef-657bd85b668b___FREC_Scab 3247.JPG'\n",
            "'3bf2f5f8-4578-405a-88c6-c5338620a078___FREC_Scab 3059.JPG'\n",
            "'3c27bbd7-b305-4ab0-8a85-5061363cf632___FREC_Scab 3183.JPG'\n",
            "'3c2f46e3-9f96-4912-a9d5-7a046aa6a1b2___FREC_Scab 2967.JPG'\n",
            "'3d34bd1c-fae9-446a-a629-147b5e8d5d6b___FREC_Scab 3103.JPG'\n",
            "'3dd3d59c-be2a-4f29-8fa1-d4f37d7fb894___FREC_Scab 3412.JPG'\n"
          ]
        }
      ]
    },
    {
      "cell_type": "code",
      "source": [
        "from os import listdir\n",
        "from PIL import Image, ImageOps\n",
        "\n",
        "\n",
        "def create_img(image_name:str, image_path:str)->None:\n",
        "    try:\n",
        "        img = Image.open(image_path+image_name)\n",
        "\n",
        "        mirrored_img = ImageOps.mirror(img)\n",
        "        mirrored_img.save(image_path+get_prefix(image_name, 'mirrored'))\n",
        "\n",
        "        rotated_img = img.rotate(180, expand=True)\n",
        "        rotated_img.save(image_path+get_prefix(image_name, 'rotated'))\n",
        "\n",
        "    except FileNotFoundError:\n",
        "        print(f'Error: Image file not found at {image_path}')\n",
        "    except Exception as e:\n",
        "        print(f'An error occurred: {e}')\n",
        "\n",
        "\n",
        "get_prefix = lambda old_name, prefix: prefix + '__' + old_name\n",
        "\n",
        "\n",
        "for _dir in listdir(BASE_DIR):\n",
        "    for img in listdir(f'{BASE_DIR}/{_dir}'):\n",
        "        create_img(img, f'{BASE_DIR}/{_dir}/')\n",
        "\n"
      ],
      "metadata": {
        "id": "egczMpajBFvL"
      },
      "execution_count": 9,
      "outputs": []
    },
    {
      "cell_type": "markdown",
      "source": [
        "## Add all paths and classes to list"
      ],
      "metadata": {
        "id": "532RKqGg_tIQ"
      }
    },
    {
      "cell_type": "code",
      "source": [
        "import os\n",
        "from collections import defaultdict\n",
        "\n",
        "keys = os.listdir(BASE_DIR)\n",
        "\n",
        "data = defaultdict(list)\n",
        "for cls in keys:\n",
        "    img_path = os.listdir(BASE_DIR+'/'+cls)\n",
        "    data['img_path'].extend(img_path)\n",
        "    data['class'].extend([cls]*len(img_path))\n"
      ],
      "metadata": {
        "id": "yhj3rOUw02jJ"
      },
      "execution_count": 10,
      "outputs": []
    },
    {
      "cell_type": "code",
      "source": [
        "import pandas as pd\n",
        "import numpy as np"
      ],
      "metadata": {
        "id": "gLRQXyuB4Izc"
      },
      "execution_count": 11,
      "outputs": []
    },
    {
      "cell_type": "code",
      "source": [
        "df = pd.DataFrame(data=data)\n",
        "df.head()"
      ],
      "metadata": {
        "colab": {
          "base_uri": "https://localhost:8080/",
          "height": 206
        },
        "id": "etqh0h3m1ib6",
        "outputId": "d0ae130d-808b-410c-91e1-53c01e0921f4"
      },
      "execution_count": 12,
      "outputs": [
        {
          "output_type": "execute_result",
          "data": {
            "text/plain": [
              "                                            img_path  class\n",
              "0  mirrored__5cd4836c-b974-4228-b23f-1e70e8c3ea11...  Virus\n",
              "1  rotated__5b6fe4ff-01b0-4b9d-ad8d-4c6c8ef909be_...  Virus\n",
              "2  mirrored__4d603da2-b570-4d8a-ba97-28f99c42dd89...  Virus\n",
              "3  rotated__4baea4d9-8343-4550-838f-86dfb7672591_...  Virus\n",
              "4  rotated__1b1991ac-4e5c-4528-ac3d-096d63fb05aa_...  Virus"
            ],
            "text/html": [
              "\n",
              "  <div id=\"df-97b9ebef-1c33-48df-b6fe-27cb806b7730\" class=\"colab-df-container\">\n",
              "    <div>\n",
              "<style scoped>\n",
              "    .dataframe tbody tr th:only-of-type {\n",
              "        vertical-align: middle;\n",
              "    }\n",
              "\n",
              "    .dataframe tbody tr th {\n",
              "        vertical-align: top;\n",
              "    }\n",
              "\n",
              "    .dataframe thead th {\n",
              "        text-align: right;\n",
              "    }\n",
              "</style>\n",
              "<table border=\"1\" class=\"dataframe\">\n",
              "  <thead>\n",
              "    <tr style=\"text-align: right;\">\n",
              "      <th></th>\n",
              "      <th>img_path</th>\n",
              "      <th>class</th>\n",
              "    </tr>\n",
              "  </thead>\n",
              "  <tbody>\n",
              "    <tr>\n",
              "      <th>0</th>\n",
              "      <td>mirrored__5cd4836c-b974-4228-b23f-1e70e8c3ea11...</td>\n",
              "      <td>Virus</td>\n",
              "    </tr>\n",
              "    <tr>\n",
              "      <th>1</th>\n",
              "      <td>rotated__5b6fe4ff-01b0-4b9d-ad8d-4c6c8ef909be_...</td>\n",
              "      <td>Virus</td>\n",
              "    </tr>\n",
              "    <tr>\n",
              "      <th>2</th>\n",
              "      <td>mirrored__4d603da2-b570-4d8a-ba97-28f99c42dd89...</td>\n",
              "      <td>Virus</td>\n",
              "    </tr>\n",
              "    <tr>\n",
              "      <th>3</th>\n",
              "      <td>rotated__4baea4d9-8343-4550-838f-86dfb7672591_...</td>\n",
              "      <td>Virus</td>\n",
              "    </tr>\n",
              "    <tr>\n",
              "      <th>4</th>\n",
              "      <td>rotated__1b1991ac-4e5c-4528-ac3d-096d63fb05aa_...</td>\n",
              "      <td>Virus</td>\n",
              "    </tr>\n",
              "  </tbody>\n",
              "</table>\n",
              "</div>\n",
              "    <div class=\"colab-df-buttons\">\n",
              "\n",
              "  <div class=\"colab-df-container\">\n",
              "    <button class=\"colab-df-convert\" onclick=\"convertToInteractive('df-97b9ebef-1c33-48df-b6fe-27cb806b7730')\"\n",
              "            title=\"Convert this dataframe to an interactive table.\"\n",
              "            style=\"display:none;\">\n",
              "\n",
              "  <svg xmlns=\"http://www.w3.org/2000/svg\" height=\"24px\" viewBox=\"0 -960 960 960\">\n",
              "    <path d=\"M120-120v-720h720v720H120Zm60-500h600v-160H180v160Zm220 220h160v-160H400v160Zm0 220h160v-160H400v160ZM180-400h160v-160H180v160Zm440 0h160v-160H620v160ZM180-180h160v-160H180v160Zm440 0h160v-160H620v160Z\"/>\n",
              "  </svg>\n",
              "    </button>\n",
              "\n",
              "  <style>\n",
              "    .colab-df-container {\n",
              "      display:flex;\n",
              "      gap: 12px;\n",
              "    }\n",
              "\n",
              "    .colab-df-convert {\n",
              "      background-color: #E8F0FE;\n",
              "      border: none;\n",
              "      border-radius: 50%;\n",
              "      cursor: pointer;\n",
              "      display: none;\n",
              "      fill: #1967D2;\n",
              "      height: 32px;\n",
              "      padding: 0 0 0 0;\n",
              "      width: 32px;\n",
              "    }\n",
              "\n",
              "    .colab-df-convert:hover {\n",
              "      background-color: #E2EBFA;\n",
              "      box-shadow: 0px 1px 2px rgba(60, 64, 67, 0.3), 0px 1px 3px 1px rgba(60, 64, 67, 0.15);\n",
              "      fill: #174EA6;\n",
              "    }\n",
              "\n",
              "    .colab-df-buttons div {\n",
              "      margin-bottom: 4px;\n",
              "    }\n",
              "\n",
              "    [theme=dark] .colab-df-convert {\n",
              "      background-color: #3B4455;\n",
              "      fill: #D2E3FC;\n",
              "    }\n",
              "\n",
              "    [theme=dark] .colab-df-convert:hover {\n",
              "      background-color: #434B5C;\n",
              "      box-shadow: 0px 1px 3px 1px rgba(0, 0, 0, 0.15);\n",
              "      filter: drop-shadow(0px 1px 2px rgba(0, 0, 0, 0.3));\n",
              "      fill: #FFFFFF;\n",
              "    }\n",
              "  </style>\n",
              "\n",
              "    <script>\n",
              "      const buttonEl =\n",
              "        document.querySelector('#df-97b9ebef-1c33-48df-b6fe-27cb806b7730 button.colab-df-convert');\n",
              "      buttonEl.style.display =\n",
              "        google.colab.kernel.accessAllowed ? 'block' : 'none';\n",
              "\n",
              "      async function convertToInteractive(key) {\n",
              "        const element = document.querySelector('#df-97b9ebef-1c33-48df-b6fe-27cb806b7730');\n",
              "        const dataTable =\n",
              "          await google.colab.kernel.invokeFunction('convertToInteractive',\n",
              "                                                    [key], {});\n",
              "        if (!dataTable) return;\n",
              "\n",
              "        const docLinkHtml = 'Like what you see? Visit the ' +\n",
              "          '<a target=\"_blank\" href=https://colab.research.google.com/notebooks/data_table.ipynb>data table notebook</a>'\n",
              "          + ' to learn more about interactive tables.';\n",
              "        element.innerHTML = '';\n",
              "        dataTable['output_type'] = 'display_data';\n",
              "        await google.colab.output.renderOutput(dataTable, element);\n",
              "        const docLink = document.createElement('div');\n",
              "        docLink.innerHTML = docLinkHtml;\n",
              "        element.appendChild(docLink);\n",
              "      }\n",
              "    </script>\n",
              "  </div>\n",
              "\n",
              "\n",
              "    <div id=\"df-3113051e-843f-4452-8405-a1072091de6f\">\n",
              "      <button class=\"colab-df-quickchart\" onclick=\"quickchart('df-3113051e-843f-4452-8405-a1072091de6f')\"\n",
              "                title=\"Suggest charts\"\n",
              "                style=\"display:none;\">\n",
              "\n",
              "<svg xmlns=\"http://www.w3.org/2000/svg\" height=\"24px\"viewBox=\"0 0 24 24\"\n",
              "     width=\"24px\">\n",
              "    <g>\n",
              "        <path d=\"M19 3H5c-1.1 0-2 .9-2 2v14c0 1.1.9 2 2 2h14c1.1 0 2-.9 2-2V5c0-1.1-.9-2-2-2zM9 17H7v-7h2v7zm4 0h-2V7h2v10zm4 0h-2v-4h2v4z\"/>\n",
              "    </g>\n",
              "</svg>\n",
              "      </button>\n",
              "\n",
              "<style>\n",
              "  .colab-df-quickchart {\n",
              "      --bg-color: #E8F0FE;\n",
              "      --fill-color: #1967D2;\n",
              "      --hover-bg-color: #E2EBFA;\n",
              "      --hover-fill-color: #174EA6;\n",
              "      --disabled-fill-color: #AAA;\n",
              "      --disabled-bg-color: #DDD;\n",
              "  }\n",
              "\n",
              "  [theme=dark] .colab-df-quickchart {\n",
              "      --bg-color: #3B4455;\n",
              "      --fill-color: #D2E3FC;\n",
              "      --hover-bg-color: #434B5C;\n",
              "      --hover-fill-color: #FFFFFF;\n",
              "      --disabled-bg-color: #3B4455;\n",
              "      --disabled-fill-color: #666;\n",
              "  }\n",
              "\n",
              "  .colab-df-quickchart {\n",
              "    background-color: var(--bg-color);\n",
              "    border: none;\n",
              "    border-radius: 50%;\n",
              "    cursor: pointer;\n",
              "    display: none;\n",
              "    fill: var(--fill-color);\n",
              "    height: 32px;\n",
              "    padding: 0;\n",
              "    width: 32px;\n",
              "  }\n",
              "\n",
              "  .colab-df-quickchart:hover {\n",
              "    background-color: var(--hover-bg-color);\n",
              "    box-shadow: 0 1px 2px rgba(60, 64, 67, 0.3), 0 1px 3px 1px rgba(60, 64, 67, 0.15);\n",
              "    fill: var(--button-hover-fill-color);\n",
              "  }\n",
              "\n",
              "  .colab-df-quickchart-complete:disabled,\n",
              "  .colab-df-quickchart-complete:disabled:hover {\n",
              "    background-color: var(--disabled-bg-color);\n",
              "    fill: var(--disabled-fill-color);\n",
              "    box-shadow: none;\n",
              "  }\n",
              "\n",
              "  .colab-df-spinner {\n",
              "    border: 2px solid var(--fill-color);\n",
              "    border-color: transparent;\n",
              "    border-bottom-color: var(--fill-color);\n",
              "    animation:\n",
              "      spin 1s steps(1) infinite;\n",
              "  }\n",
              "\n",
              "  @keyframes spin {\n",
              "    0% {\n",
              "      border-color: transparent;\n",
              "      border-bottom-color: var(--fill-color);\n",
              "      border-left-color: var(--fill-color);\n",
              "    }\n",
              "    20% {\n",
              "      border-color: transparent;\n",
              "      border-left-color: var(--fill-color);\n",
              "      border-top-color: var(--fill-color);\n",
              "    }\n",
              "    30% {\n",
              "      border-color: transparent;\n",
              "      border-left-color: var(--fill-color);\n",
              "      border-top-color: var(--fill-color);\n",
              "      border-right-color: var(--fill-color);\n",
              "    }\n",
              "    40% {\n",
              "      border-color: transparent;\n",
              "      border-right-color: var(--fill-color);\n",
              "      border-top-color: var(--fill-color);\n",
              "    }\n",
              "    60% {\n",
              "      border-color: transparent;\n",
              "      border-right-color: var(--fill-color);\n",
              "    }\n",
              "    80% {\n",
              "      border-color: transparent;\n",
              "      border-right-color: var(--fill-color);\n",
              "      border-bottom-color: var(--fill-color);\n",
              "    }\n",
              "    90% {\n",
              "      border-color: transparent;\n",
              "      border-bottom-color: var(--fill-color);\n",
              "    }\n",
              "  }\n",
              "</style>\n",
              "\n",
              "      <script>\n",
              "        async function quickchart(key) {\n",
              "          const quickchartButtonEl =\n",
              "            document.querySelector('#' + key + ' button');\n",
              "          quickchartButtonEl.disabled = true;  // To prevent multiple clicks.\n",
              "          quickchartButtonEl.classList.add('colab-df-spinner');\n",
              "          try {\n",
              "            const charts = await google.colab.kernel.invokeFunction(\n",
              "                'suggestCharts', [key], {});\n",
              "          } catch (error) {\n",
              "            console.error('Error during call to suggestCharts:', error);\n",
              "          }\n",
              "          quickchartButtonEl.classList.remove('colab-df-spinner');\n",
              "          quickchartButtonEl.classList.add('colab-df-quickchart-complete');\n",
              "        }\n",
              "        (() => {\n",
              "          let quickchartButtonEl =\n",
              "            document.querySelector('#df-3113051e-843f-4452-8405-a1072091de6f button');\n",
              "          quickchartButtonEl.style.display =\n",
              "            google.colab.kernel.accessAllowed ? 'block' : 'none';\n",
              "        })();\n",
              "      </script>\n",
              "    </div>\n",
              "    </div>\n",
              "  </div>\n"
            ],
            "application/vnd.google.colaboratory.intrinsic+json": {
              "type": "dataframe",
              "variable_name": "df",
              "summary": "{\n  \"name\": \"df\",\n  \"rows\": 717,\n  \"fields\": [\n    {\n      \"column\": \"img_path\",\n      \"properties\": {\n        \"dtype\": \"string\",\n        \"num_unique_values\": 717,\n        \"samples\": [\n          \"2ff35cfb-2145-4844-9755-e977af5f661d___RS_GLSp 4434.JPG\",\n          \"mirrored__01e94c43-0879-4e8c-9b61-c48cfed88dab___JR_FrgE.S 3024.JPG\",\n          \"2bfff79a-08ce-4f07-a059-465326ef2ea2___RS_GLSp 4436.JPG\"\n        ],\n        \"semantic_type\": \"\",\n        \"description\": \"\"\n      }\n    },\n    {\n      \"column\": \"class\",\n      \"properties\": {\n        \"dtype\": \"category\",\n        \"num_unique_values\": 5,\n        \"samples\": [\n          \"Bacteria\",\n          \"Nematodes\",\n          \"Fungi\"\n        ],\n        \"semantic_type\": \"\",\n        \"description\": \"\"\n      }\n    }\n  ]\n}"
            }
          },
          "metadata": {},
          "execution_count": 12
        }
      ]
    },
    {
      "cell_type": "code",
      "source": [
        "df['class'].value_counts()"
      ],
      "metadata": {
        "id": "DnrbrhxB-Y7Q",
        "outputId": "539461dd-a01e-4e1a-ccdd-fc518f48eeb3",
        "colab": {
          "base_uri": "https://localhost:8080/",
          "height": 272
        }
      },
      "execution_count": 13,
      "outputs": [
        {
          "output_type": "execute_result",
          "data": {
            "text/plain": [
              "class\n",
              "Virus        150\n",
              "Bacteria     150\n",
              "Fungi        150\n",
              "Nematodes    147\n",
              "Normal       120\n",
              "Name: count, dtype: int64"
            ],
            "text/html": [
              "<div>\n",
              "<style scoped>\n",
              "    .dataframe tbody tr th:only-of-type {\n",
              "        vertical-align: middle;\n",
              "    }\n",
              "\n",
              "    .dataframe tbody tr th {\n",
              "        vertical-align: top;\n",
              "    }\n",
              "\n",
              "    .dataframe thead th {\n",
              "        text-align: right;\n",
              "    }\n",
              "</style>\n",
              "<table border=\"1\" class=\"dataframe\">\n",
              "  <thead>\n",
              "    <tr style=\"text-align: right;\">\n",
              "      <th></th>\n",
              "      <th>count</th>\n",
              "    </tr>\n",
              "    <tr>\n",
              "      <th>class</th>\n",
              "      <th></th>\n",
              "    </tr>\n",
              "  </thead>\n",
              "  <tbody>\n",
              "    <tr>\n",
              "      <th>Virus</th>\n",
              "      <td>150</td>\n",
              "    </tr>\n",
              "    <tr>\n",
              "      <th>Bacteria</th>\n",
              "      <td>150</td>\n",
              "    </tr>\n",
              "    <tr>\n",
              "      <th>Fungi</th>\n",
              "      <td>150</td>\n",
              "    </tr>\n",
              "    <tr>\n",
              "      <th>Nematodes</th>\n",
              "      <td>147</td>\n",
              "    </tr>\n",
              "    <tr>\n",
              "      <th>Normal</th>\n",
              "      <td>120</td>\n",
              "    </tr>\n",
              "  </tbody>\n",
              "</table>\n",
              "</div><br><label><b>dtype:</b> int64</label>"
            ]
          },
          "metadata": {},
          "execution_count": 13
        }
      ]
    },
    {
      "cell_type": "code",
      "source": [],
      "metadata": {
        "id": "F_4GMq6FqtaI"
      },
      "execution_count": null,
      "outputs": []
    }
  ]
}