{
  "nbformat": 4,
  "nbformat_minor": 0,
  "metadata": {
    "colab": {
      "provenance": [],
      "authorship_tag": "ABX9TyNAoZ0t3OrOC7zQ6R5aBk8F"
    },
    "kernelspec": {
      "name": "python3",
      "display_name": "Python 3"
    },
    "language_info": {
      "name": "python"
    }
  },
  "cells": [
    {
      "cell_type": "code",
      "execution_count": 52,
      "metadata": {
        "colab": {
          "base_uri": "https://localhost:8080/"
        },
        "id": "RyWxkAzmzGjo",
        "outputId": "bcc4ed54-021f-4208-a295-655d1b49ca20"
      },
      "outputs": [
        {
          "output_type": "stream",
          "name": "stdout",
          "text": [
            "Path to dataset files: /kaggle/input/leaf-disease\n"
          ]
        }
      ],
      "source": [
        "import kagglehub\n",
        "\n",
        "# Download latest version\n",
        "path = kagglehub.dataset_download(\"sizlingdhairya1/leaf-disease\")\n",
        "\n",
        "print(\"Path to dataset files:\", path)"
      ]
    },
    {
      "cell_type": "code",
      "source": [
        "! mkdir kaggle\n",
        "! cp -a $path/. kaggle/"
      ],
      "metadata": {
        "id": "hQ6ELBkbwzjN",
        "outputId": "7b6b5adb-e939-42a9-b0f8-68c80dd41591",
        "colab": {
          "base_uri": "https://localhost:8080/"
        }
      },
      "execution_count": 53,
      "outputs": [
        {
          "output_type": "stream",
          "name": "stdout",
          "text": [
            "mkdir: cannot create directory ‘kaggle’: File exists\n"
          ]
        }
      ]
    },
    {
      "cell_type": "code",
      "source": [
        "BASE_DIR = 'kaggle/Datasets'"
      ],
      "metadata": {
        "id": "toh0NusFyDTH"
      },
      "execution_count": 41,
      "outputs": []
    },
    {
      "cell_type": "code",
      "source": [
        "! ls $BASE_DIR"
      ],
      "metadata": {
        "colab": {
          "base_uri": "https://localhost:8080/"
        },
        "id": "nOraMA7z0qgp",
        "outputId": "c7e50dfe-892c-408b-f7c7-a97977b25532"
      },
      "execution_count": 42,
      "outputs": [
        {
          "output_type": "stream",
          "name": "stdout",
          "text": [
            "Bacteria  Fungi  Nematodes  Normal  Virus\n"
          ]
        }
      ]
    },
    {
      "cell_type": "markdown",
      "source": [
        "## Create more images by rotating and reflecting"
      ],
      "metadata": {
        "id": "w5JLHY8M_Kvc"
      }
    },
    {
      "cell_type": "code",
      "source": [
        "! ls $BASE_DIR/Bacteria"
      ],
      "metadata": {
        "id": "YWRan1AgrQU_",
        "outputId": "bd68a254-db40-438d-f8d5-492455378c60",
        "colab": {
          "base_uri": "https://localhost:8080/"
        }
      },
      "execution_count": 50,
      "outputs": [
        {
          "output_type": "stream",
          "name": "stdout",
          "text": [
            "'01a66316-0e98-4d3b-a56f-d78752cd043f___FREC_Scab 3003.JPG'\n",
            "'01f3deaa-6143-4b6c-9c22-620a46d8be04___FREC_Scab 3112.JPG'\n",
            "'03eccb1a-0368-4ac7-9f48-7546037b775a___FREC_Scab 3334.JPG'\n",
            "'0b170906-9436-4c0d-84c1-c396ad9d909b___FREC_Scab 3101.JPG'\n",
            "'0b4a52e3-e15e-4117-b2e8-7cdb5dca3ce9___FREC_Scab 3137.JPG'\n",
            "'0c620ec5-11cf-4120-94ab-1311e99df147___FREC_Scab 3131.JPG'\n",
            "'0cbfa4fa-63d8-43ce-9385-ff140e524b69___FREC_Scab 3164.JPG'\n",
            "'0d3c0790-7833-470b-ac6e-94d0a3bf3e7c___FREC_Scab 2959.JPG'\n",
            "'0d8d5b80-962d-4381-8d3b-9eca3f2f1bb0___FREC_Scab 3449.JPG'\n",
            "'0db71c1d-93d7-4481-b0d0-b73f995131a9___FREC_Scab 2976.JPG'\n",
            "'0e90fe4a-e8b6-4186-9429-a9fea180af9a___FREC_Scab 3391.JPG'\n",
            "'0ea78733-9404-4536-8793-a108c66269b3___FREC_Scab 3145.JPG'\n",
            "'1a21aabb-6f74-4644-8d9e-a517568b7e9c___FREC_Scab 3095.JPG'\n",
            "'1a304331-98b5-473f-bbb1-c33b8441052a___FREC_Scab 3296.JPG'\n",
            "'1a4047d7-23d6-4bba-ba10-b6e7005ea01b___FREC_Scab 3193.JPG'\n",
            "'1a41bab0-45e0-4dda-a798-9bf4a998f1b6___FREC_Scab 3450.JPG'\n",
            "'1b1004c8-99e9-4c85-8fe5-b1c11d558cf8___FREC_Scab 3300.JPG'\n",
            "'1bc60205-27cc-4d10-bc87-7e968573e5d5___FREC_Scab 3531.JPG'\n",
            "'1bcc3b5d-7e00-43fb-983e-95ae271a715b___FREC_Scab 3061.JPG'\n",
            "'1c10ab31-02b9-4008-b66f-9b44d8a9d323___FREC_Scab 3084.JPG'\n",
            "'1cb869ea-0a4c-47d7-9def-a88c16b72ddc___FREC_Scab 3350.JPG'\n",
            "'1cdf2779-8cb1-4ae4-be70-b0eeb1abb0f8___FREC_Scab 3370.JPG'\n",
            "'1ceeeee0-40bd-4ac9-8a57-59385bf5df8a___FREC_Scab 3001.JPG'\n",
            "'1d81b4c1-072d-4cf7-b1ca-ce43f59822d8___FREC_Scab 3406.JPG'\n",
            "'1d9d67e2-5603-4710-ae2b-6cb0b922ae61___FREC_Scab 3122.JPG'\n",
            "'1f6abf22-93fa-48f0-a509-cc3e210f75f0___FREC_Scab 3172.JPG'\n",
            "'1f97d75c-db85-4344-8687-82ca56454d17___FREC_Scab 3408.JPG'\n",
            "'1f98b949-4df2-45cf-8572-3b4a753be21a___FREC_Scab 2907.JPG'\n",
            "'2a59761b-c91c-451c-8e13-d9dc3aff8d29___FREC_Scab 3503.JPG'\n",
            "'2a800c84-902e-4aa8-af13-4e020d6f17dd___FREC_Scab 3124.JPG'\n",
            "'2a97b29d-8a63-47ab-bd5b-c14832a586c8___FREC_Scab 3242.JPG'\n",
            "'2ae81857-0615-4a6a-8d13-1ace0c62284d___FREC_Scab 2992.JPG'\n",
            "'2bc018ba-3c49-4cf4-9411-a93b7b196f45___FREC_Scab 3326.JPG'\n",
            "'2bc50b52-0d7d-41a3-be8a-8d070341d87f___FREC_Scab 3476.JPG'\n",
            "'2bfd8ee0-af6b-42fd-ae61-fc5e92ec1b67___FREC_Scab 2988.JPG'\n",
            "'2c648fcd-d637-4559-beaa-9dd6079646fb___FREC_Scab 3213.JPG'\n",
            "'2c7ca7c8-1a6c-4811-b9b0-b054c11a5397___FREC_Scab 3260.JPG'\n",
            "'2c89ceaf-748c-4371-80d0-d01855f04a92___FREC_Scab 2962.JPG'\n",
            "'2d329823-7ad5-4189-89b7-4bdf24f9c393___FREC_Scab 3507.JPG'\n",
            "'2d4c8a12-a34c-4c8b-b357-271d87532ece___FREC_Scab 3090.JPG'\n",
            "'2d5265d2-be99-4e9f-a085-d309cc01b751___FREC_Scab 3023.JPG'\n",
            "'2dd8b8f8-46b0-4bc6-b817-ea7163f4b28b___FREC_Scab 3473.JPG'\n",
            "'2e264ee0-7679-4ad2-a19a-1ac4d2e84079___FREC_Scab 2984.JPG'\n",
            "'2f1e68c0-c059-46fd-bbf3-f160817abdc3___FREC_Scab 3535.JPG'\n",
            "'2f668a95-80ab-40ac-98ef-657bd85b668b___FREC_Scab 3247.JPG'\n",
            "'3bf2f5f8-4578-405a-88c6-c5338620a078___FREC_Scab 3059.JPG'\n",
            "'3c27bbd7-b305-4ab0-8a85-5061363cf632___FREC_Scab 3183.JPG'\n",
            "'3c2f46e3-9f96-4912-a9d5-7a046aa6a1b2___FREC_Scab 2967.JPG'\n",
            "'3d34bd1c-fae9-446a-a629-147b5e8d5d6b___FREC_Scab 3103.JPG'\n",
            "'3dd3d59c-be2a-4f29-8fa1-d4f37d7fb894___FREC_Scab 3412.JPG'\n",
            "'changed__01a66316-0e98-4d3b-a56f-d78752cd043f___FREC_Scab 3003.JPG'\n",
            "'changed__01f3deaa-6143-4b6c-9c22-620a46d8be04___FREC_Scab 3112.JPG'\n",
            "'changed__03eccb1a-0368-4ac7-9f48-7546037b775a___FREC_Scab 3334.JPG'\n",
            "'changed__0b170906-9436-4c0d-84c1-c396ad9d909b___FREC_Scab 3101.JPG'\n",
            "'changed__0b4a52e3-e15e-4117-b2e8-7cdb5dca3ce9___FREC_Scab 3137.JPG'\n",
            "'changed__0c620ec5-11cf-4120-94ab-1311e99df147___FREC_Scab 3131.JPG'\n",
            "'changed__0cbfa4fa-63d8-43ce-9385-ff140e524b69___FREC_Scab 3164.JPG'\n",
            "'changed__0d3c0790-7833-470b-ac6e-94d0a3bf3e7c___FREC_Scab 2959.JPG'\n",
            "'changed__0d8d5b80-962d-4381-8d3b-9eca3f2f1bb0___FREC_Scab 3449.JPG'\n",
            "'changed__0db71c1d-93d7-4481-b0d0-b73f995131a9___FREC_Scab 2976.JPG'\n",
            "'changed__0e90fe4a-e8b6-4186-9429-a9fea180af9a___FREC_Scab 3391.JPG'\n",
            "'changed__0ea78733-9404-4536-8793-a108c66269b3___FREC_Scab 3145.JPG'\n",
            "'changed__1a21aabb-6f74-4644-8d9e-a517568b7e9c___FREC_Scab 3095.JPG'\n",
            "'changed__1a304331-98b5-473f-bbb1-c33b8441052a___FREC_Scab 3296.JPG'\n",
            "'changed__1a4047d7-23d6-4bba-ba10-b6e7005ea01b___FREC_Scab 3193.JPG'\n",
            "'changed__1a41bab0-45e0-4dda-a798-9bf4a998f1b6___FREC_Scab 3450.JPG'\n",
            "'changed__1b1004c8-99e9-4c85-8fe5-b1c11d558cf8___FREC_Scab 3300.JPG'\n",
            "'changed__1bc60205-27cc-4d10-bc87-7e968573e5d5___FREC_Scab 3531.JPG'\n",
            "'changed__1bcc3b5d-7e00-43fb-983e-95ae271a715b___FREC_Scab 3061.JPG'\n",
            "'changed__1c10ab31-02b9-4008-b66f-9b44d8a9d323___FREC_Scab 3084.JPG'\n",
            "'changed__1cb869ea-0a4c-47d7-9def-a88c16b72ddc___FREC_Scab 3350.JPG'\n",
            "'changed__1cdf2779-8cb1-4ae4-be70-b0eeb1abb0f8___FREC_Scab 3370.JPG'\n",
            "'changed__1ceeeee0-40bd-4ac9-8a57-59385bf5df8a___FREC_Scab 3001.JPG'\n",
            "'changed__1d81b4c1-072d-4cf7-b1ca-ce43f59822d8___FREC_Scab 3406.JPG'\n",
            "'changed__1d9d67e2-5603-4710-ae2b-6cb0b922ae61___FREC_Scab 3122.JPG'\n",
            "'changed__1f6abf22-93fa-48f0-a509-cc3e210f75f0___FREC_Scab 3172.JPG'\n",
            "'changed__1f97d75c-db85-4344-8687-82ca56454d17___FREC_Scab 3408.JPG'\n",
            "'changed__1f98b949-4df2-45cf-8572-3b4a753be21a___FREC_Scab 2907.JPG'\n",
            "'changed__2a59761b-c91c-451c-8e13-d9dc3aff8d29___FREC_Scab 3503.JPG'\n",
            "'changed__2a800c84-902e-4aa8-af13-4e020d6f17dd___FREC_Scab 3124.JPG'\n",
            "'changed__2a97b29d-8a63-47ab-bd5b-c14832a586c8___FREC_Scab 3242.JPG'\n",
            "'changed__2ae81857-0615-4a6a-8d13-1ace0c62284d___FREC_Scab 2992.JPG'\n",
            "'changed__2bc018ba-3c49-4cf4-9411-a93b7b196f45___FREC_Scab 3326.JPG'\n",
            "'changed__2bc50b52-0d7d-41a3-be8a-8d070341d87f___FREC_Scab 3476.JPG'\n",
            "'changed__2bfd8ee0-af6b-42fd-ae61-fc5e92ec1b67___FREC_Scab 2988.JPG'\n",
            "'changed__2c648fcd-d637-4559-beaa-9dd6079646fb___FREC_Scab 3213.JPG'\n",
            "'changed__2c7ca7c8-1a6c-4811-b9b0-b054c11a5397___FREC_Scab 3260.JPG'\n",
            "'changed__2c89ceaf-748c-4371-80d0-d01855f04a92___FREC_Scab 2962.JPG'\n",
            "'changed__2d329823-7ad5-4189-89b7-4bdf24f9c393___FREC_Scab 3507.JPG'\n",
            "'changed__2d4c8a12-a34c-4c8b-b357-271d87532ece___FREC_Scab 3090.JPG'\n",
            "'changed__2d5265d2-be99-4e9f-a085-d309cc01b751___FREC_Scab 3023.JPG'\n",
            "'changed__2dd8b8f8-46b0-4bc6-b817-ea7163f4b28b___FREC_Scab 3473.JPG'\n",
            "'changed__2e264ee0-7679-4ad2-a19a-1ac4d2e84079___FREC_Scab 2984.JPG'\n",
            "'changed__2f1e68c0-c059-46fd-bbf3-f160817abdc3___FREC_Scab 3535.JPG'\n",
            "'changed__2f668a95-80ab-40ac-98ef-657bd85b668b___FREC_Scab 3247.JPG'\n",
            "'changed__3bf2f5f8-4578-405a-88c6-c5338620a078___FREC_Scab 3059.JPG'\n",
            "'changed__3c27bbd7-b305-4ab0-8a85-5061363cf632___FREC_Scab 3183.JPG'\n",
            "'changed__3c2f46e3-9f96-4912-a9d5-7a046aa6a1b2___FREC_Scab 2967.JPG'\n",
            "'changed__3d34bd1c-fae9-446a-a629-147b5e8d5d6b___FREC_Scab 3103.JPG'\n",
            "'changed__3dd3d59c-be2a-4f29-8fa1-d4f37d7fb894___FREC_Scab 3412.JPG'\n"
          ]
        }
      ]
    },
    {
      "cell_type": "code",
      "source": [
        "from os import listdir\n",
        "from PIL import Image, ImageOps\n",
        "\n",
        "# OVERWRITE!!!\n",
        "def create_img(image_path, output_path_rotated, output_path_mirrored):\n",
        "    try:\n",
        "        img = Image.open(image_path)\n",
        "\n",
        "        mirrored_img = ImageOps.mirror(img)\n",
        "        mirrored_img.save(output_path_mirrored)\n",
        "\n",
        "        rotated_img = img.rotate(180, expand=True)\n",
        "        rotated_img.save(output_path_rotated)\n",
        "\n",
        "    except FileNotFoundError:\n",
        "        print(f'Error: Image file not found at {image_path}')\n",
        "    except Exception as e:\n",
        "        print(f'An error occurred: {e}')\n",
        "\n",
        "def new_img_name(old_name, prefix='changed'):\n",
        "    return prefix + '__' + old_name\n",
        "\n",
        "\n",
        "for img in listdir(f'{BASE_DIR}/Bacteria'):\n",
        "    create_img(f'{BASE_DIR}/Bacteria/'+img,\n",
        "               f'{BASE_DIR}/Bacteria/'+new_img_name(img, 'rotated'),\n",
        "               f'{BASE_DIR}/Bacteria/'+new_img_name(img, 'mirrored'))\n",
        "\n"
      ],
      "metadata": {
        "id": "egczMpajBFvL"
      },
      "execution_count": 44,
      "outputs": []
    },
    {
      "cell_type": "markdown",
      "source": [
        "## Add all paths and classes to list"
      ],
      "metadata": {
        "id": "532RKqGg_tIQ"
      }
    },
    {
      "cell_type": "code",
      "source": [
        "import os\n",
        "from collections import defaultdict\n",
        "\n",
        "keys = os.listdir(BASE_DIR)\n",
        "\n",
        "data = defaultdict(list)\n",
        "for cls in keys:\n",
        "    img_path = os.listdir(BASE_DIR+'/'+cls)\n",
        "    data['img_path'].extend(img_path)\n",
        "    data['class'].extend([cls]*len(img_path))\n"
      ],
      "metadata": {
        "id": "yhj3rOUw02jJ"
      },
      "execution_count": 46,
      "outputs": []
    },
    {
      "cell_type": "code",
      "source": [
        "import pandas as pd\n",
        "import numpy as np"
      ],
      "metadata": {
        "id": "gLRQXyuB4Izc"
      },
      "execution_count": 47,
      "outputs": []
    },
    {
      "cell_type": "code",
      "source": [
        "df = pd.DataFrame(data=data)\n",
        "df.head()"
      ],
      "metadata": {
        "colab": {
          "base_uri": "https://localhost:8080/",
          "height": 206
        },
        "id": "etqh0h3m1ib6",
        "outputId": "46ff3863-c4c1-4c6c-87a1-bc79450caed3"
      },
      "execution_count": 48,
      "outputs": [
        {
          "output_type": "execute_result",
          "data": {
            "text/plain": [
              "                                            img_path  class\n",
              "0  2e3c83d4-fbbc-4250-a3e6-96bff8d8164a___RS_GLSp...  Virus\n",
              "1  3dc975e5-3570-4dbd-b163-a6f2947fc35f___RS_GLSp...  Virus\n",
              "2  1effc5b5-4f56-4374-92c8-4acb0b506527___RS_GLSp...  Virus\n",
              "3  2ca70127-9310-4312-8769-d9d6b43526a1___RS_GLSp...  Virus\n",
              "4  5cbbb4b8-88cc-4d5f-907a-505a2a831b8a___RS_GLSp...  Virus"
            ],
            "text/html": [
              "\n",
              "  <div id=\"df-79de32d3-ae70-4542-94e1-77eec63bc894\" class=\"colab-df-container\">\n",
              "    <div>\n",
              "<style scoped>\n",
              "    .dataframe tbody tr th:only-of-type {\n",
              "        vertical-align: middle;\n",
              "    }\n",
              "\n",
              "    .dataframe tbody tr th {\n",
              "        vertical-align: top;\n",
              "    }\n",
              "\n",
              "    .dataframe thead th {\n",
              "        text-align: right;\n",
              "    }\n",
              "</style>\n",
              "<table border=\"1\" class=\"dataframe\">\n",
              "  <thead>\n",
              "    <tr style=\"text-align: right;\">\n",
              "      <th></th>\n",
              "      <th>img_path</th>\n",
              "      <th>class</th>\n",
              "    </tr>\n",
              "  </thead>\n",
              "  <tbody>\n",
              "    <tr>\n",
              "      <th>0</th>\n",
              "      <td>2e3c83d4-fbbc-4250-a3e6-96bff8d8164a___RS_GLSp...</td>\n",
              "      <td>Virus</td>\n",
              "    </tr>\n",
              "    <tr>\n",
              "      <th>1</th>\n",
              "      <td>3dc975e5-3570-4dbd-b163-a6f2947fc35f___RS_GLSp...</td>\n",
              "      <td>Virus</td>\n",
              "    </tr>\n",
              "    <tr>\n",
              "      <th>2</th>\n",
              "      <td>1effc5b5-4f56-4374-92c8-4acb0b506527___RS_GLSp...</td>\n",
              "      <td>Virus</td>\n",
              "    </tr>\n",
              "    <tr>\n",
              "      <th>3</th>\n",
              "      <td>2ca70127-9310-4312-8769-d9d6b43526a1___RS_GLSp...</td>\n",
              "      <td>Virus</td>\n",
              "    </tr>\n",
              "    <tr>\n",
              "      <th>4</th>\n",
              "      <td>5cbbb4b8-88cc-4d5f-907a-505a2a831b8a___RS_GLSp...</td>\n",
              "      <td>Virus</td>\n",
              "    </tr>\n",
              "  </tbody>\n",
              "</table>\n",
              "</div>\n",
              "    <div class=\"colab-df-buttons\">\n",
              "\n",
              "  <div class=\"colab-df-container\">\n",
              "    <button class=\"colab-df-convert\" onclick=\"convertToInteractive('df-79de32d3-ae70-4542-94e1-77eec63bc894')\"\n",
              "            title=\"Convert this dataframe to an interactive table.\"\n",
              "            style=\"display:none;\">\n",
              "\n",
              "  <svg xmlns=\"http://www.w3.org/2000/svg\" height=\"24px\" viewBox=\"0 -960 960 960\">\n",
              "    <path d=\"M120-120v-720h720v720H120Zm60-500h600v-160H180v160Zm220 220h160v-160H400v160Zm0 220h160v-160H400v160ZM180-400h160v-160H180v160Zm440 0h160v-160H620v160ZM180-180h160v-160H180v160Zm440 0h160v-160H620v160Z\"/>\n",
              "  </svg>\n",
              "    </button>\n",
              "\n",
              "  <style>\n",
              "    .colab-df-container {\n",
              "      display:flex;\n",
              "      gap: 12px;\n",
              "    }\n",
              "\n",
              "    .colab-df-convert {\n",
              "      background-color: #E8F0FE;\n",
              "      border: none;\n",
              "      border-radius: 50%;\n",
              "      cursor: pointer;\n",
              "      display: none;\n",
              "      fill: #1967D2;\n",
              "      height: 32px;\n",
              "      padding: 0 0 0 0;\n",
              "      width: 32px;\n",
              "    }\n",
              "\n",
              "    .colab-df-convert:hover {\n",
              "      background-color: #E2EBFA;\n",
              "      box-shadow: 0px 1px 2px rgba(60, 64, 67, 0.3), 0px 1px 3px 1px rgba(60, 64, 67, 0.15);\n",
              "      fill: #174EA6;\n",
              "    }\n",
              "\n",
              "    .colab-df-buttons div {\n",
              "      margin-bottom: 4px;\n",
              "    }\n",
              "\n",
              "    [theme=dark] .colab-df-convert {\n",
              "      background-color: #3B4455;\n",
              "      fill: #D2E3FC;\n",
              "    }\n",
              "\n",
              "    [theme=dark] .colab-df-convert:hover {\n",
              "      background-color: #434B5C;\n",
              "      box-shadow: 0px 1px 3px 1px rgba(0, 0, 0, 0.15);\n",
              "      filter: drop-shadow(0px 1px 2px rgba(0, 0, 0, 0.3));\n",
              "      fill: #FFFFFF;\n",
              "    }\n",
              "  </style>\n",
              "\n",
              "    <script>\n",
              "      const buttonEl =\n",
              "        document.querySelector('#df-79de32d3-ae70-4542-94e1-77eec63bc894 button.colab-df-convert');\n",
              "      buttonEl.style.display =\n",
              "        google.colab.kernel.accessAllowed ? 'block' : 'none';\n",
              "\n",
              "      async function convertToInteractive(key) {\n",
              "        const element = document.querySelector('#df-79de32d3-ae70-4542-94e1-77eec63bc894');\n",
              "        const dataTable =\n",
              "          await google.colab.kernel.invokeFunction('convertToInteractive',\n",
              "                                                    [key], {});\n",
              "        if (!dataTable) return;\n",
              "\n",
              "        const docLinkHtml = 'Like what you see? Visit the ' +\n",
              "          '<a target=\"_blank\" href=https://colab.research.google.com/notebooks/data_table.ipynb>data table notebook</a>'\n",
              "          + ' to learn more about interactive tables.';\n",
              "        element.innerHTML = '';\n",
              "        dataTable['output_type'] = 'display_data';\n",
              "        await google.colab.output.renderOutput(dataTable, element);\n",
              "        const docLink = document.createElement('div');\n",
              "        docLink.innerHTML = docLinkHtml;\n",
              "        element.appendChild(docLink);\n",
              "      }\n",
              "    </script>\n",
              "  </div>\n",
              "\n",
              "\n",
              "    <div id=\"df-a8b78844-7591-4597-8c5d-70470b8ee3b5\">\n",
              "      <button class=\"colab-df-quickchart\" onclick=\"quickchart('df-a8b78844-7591-4597-8c5d-70470b8ee3b5')\"\n",
              "                title=\"Suggest charts\"\n",
              "                style=\"display:none;\">\n",
              "\n",
              "<svg xmlns=\"http://www.w3.org/2000/svg\" height=\"24px\"viewBox=\"0 0 24 24\"\n",
              "     width=\"24px\">\n",
              "    <g>\n",
              "        <path d=\"M19 3H5c-1.1 0-2 .9-2 2v14c0 1.1.9 2 2 2h14c1.1 0 2-.9 2-2V5c0-1.1-.9-2-2-2zM9 17H7v-7h2v7zm4 0h-2V7h2v10zm4 0h-2v-4h2v4z\"/>\n",
              "    </g>\n",
              "</svg>\n",
              "      </button>\n",
              "\n",
              "<style>\n",
              "  .colab-df-quickchart {\n",
              "      --bg-color: #E8F0FE;\n",
              "      --fill-color: #1967D2;\n",
              "      --hover-bg-color: #E2EBFA;\n",
              "      --hover-fill-color: #174EA6;\n",
              "      --disabled-fill-color: #AAA;\n",
              "      --disabled-bg-color: #DDD;\n",
              "  }\n",
              "\n",
              "  [theme=dark] .colab-df-quickchart {\n",
              "      --bg-color: #3B4455;\n",
              "      --fill-color: #D2E3FC;\n",
              "      --hover-bg-color: #434B5C;\n",
              "      --hover-fill-color: #FFFFFF;\n",
              "      --disabled-bg-color: #3B4455;\n",
              "      --disabled-fill-color: #666;\n",
              "  }\n",
              "\n",
              "  .colab-df-quickchart {\n",
              "    background-color: var(--bg-color);\n",
              "    border: none;\n",
              "    border-radius: 50%;\n",
              "    cursor: pointer;\n",
              "    display: none;\n",
              "    fill: var(--fill-color);\n",
              "    height: 32px;\n",
              "    padding: 0;\n",
              "    width: 32px;\n",
              "  }\n",
              "\n",
              "  .colab-df-quickchart:hover {\n",
              "    background-color: var(--hover-bg-color);\n",
              "    box-shadow: 0 1px 2px rgba(60, 64, 67, 0.3), 0 1px 3px 1px rgba(60, 64, 67, 0.15);\n",
              "    fill: var(--button-hover-fill-color);\n",
              "  }\n",
              "\n",
              "  .colab-df-quickchart-complete:disabled,\n",
              "  .colab-df-quickchart-complete:disabled:hover {\n",
              "    background-color: var(--disabled-bg-color);\n",
              "    fill: var(--disabled-fill-color);\n",
              "    box-shadow: none;\n",
              "  }\n",
              "\n",
              "  .colab-df-spinner {\n",
              "    border: 2px solid var(--fill-color);\n",
              "    border-color: transparent;\n",
              "    border-bottom-color: var(--fill-color);\n",
              "    animation:\n",
              "      spin 1s steps(1) infinite;\n",
              "  }\n",
              "\n",
              "  @keyframes spin {\n",
              "    0% {\n",
              "      border-color: transparent;\n",
              "      border-bottom-color: var(--fill-color);\n",
              "      border-left-color: var(--fill-color);\n",
              "    }\n",
              "    20% {\n",
              "      border-color: transparent;\n",
              "      border-left-color: var(--fill-color);\n",
              "      border-top-color: var(--fill-color);\n",
              "    }\n",
              "    30% {\n",
              "      border-color: transparent;\n",
              "      border-left-color: var(--fill-color);\n",
              "      border-top-color: var(--fill-color);\n",
              "      border-right-color: var(--fill-color);\n",
              "    }\n",
              "    40% {\n",
              "      border-color: transparent;\n",
              "      border-right-color: var(--fill-color);\n",
              "      border-top-color: var(--fill-color);\n",
              "    }\n",
              "    60% {\n",
              "      border-color: transparent;\n",
              "      border-right-color: var(--fill-color);\n",
              "    }\n",
              "    80% {\n",
              "      border-color: transparent;\n",
              "      border-right-color: var(--fill-color);\n",
              "      border-bottom-color: var(--fill-color);\n",
              "    }\n",
              "    90% {\n",
              "      border-color: transparent;\n",
              "      border-bottom-color: var(--fill-color);\n",
              "    }\n",
              "  }\n",
              "</style>\n",
              "\n",
              "      <script>\n",
              "        async function quickchart(key) {\n",
              "          const quickchartButtonEl =\n",
              "            document.querySelector('#' + key + ' button');\n",
              "          quickchartButtonEl.disabled = true;  // To prevent multiple clicks.\n",
              "          quickchartButtonEl.classList.add('colab-df-spinner');\n",
              "          try {\n",
              "            const charts = await google.colab.kernel.invokeFunction(\n",
              "                'suggestCharts', [key], {});\n",
              "          } catch (error) {\n",
              "            console.error('Error during call to suggestCharts:', error);\n",
              "          }\n",
              "          quickchartButtonEl.classList.remove('colab-df-spinner');\n",
              "          quickchartButtonEl.classList.add('colab-df-quickchart-complete');\n",
              "        }\n",
              "        (() => {\n",
              "          let quickchartButtonEl =\n",
              "            document.querySelector('#df-a8b78844-7591-4597-8c5d-70470b8ee3b5 button');\n",
              "          quickchartButtonEl.style.display =\n",
              "            google.colab.kernel.accessAllowed ? 'block' : 'none';\n",
              "        })();\n",
              "      </script>\n",
              "    </div>\n",
              "    </div>\n",
              "  </div>\n"
            ],
            "application/vnd.google.colaboratory.intrinsic+json": {
              "type": "dataframe",
              "variable_name": "df",
              "summary": "{\n  \"name\": \"df\",\n  \"rows\": 289,\n  \"fields\": [\n    {\n      \"column\": \"img_path\",\n      \"properties\": {\n        \"dtype\": \"string\",\n        \"num_unique_values\": 289,\n        \"samples\": [\n          \"3c53ba48-cb78-4803-b01c-7d10ea13284c___RS_GLSp 4611.JPG\",\n          \"0f3d45f4-e121-42cd-a5b6-be2f866a0574___JR_FrgE.S 2870.JPG\",\n          \"0b11ac6a-9e24-4d9c-bbe9-e180eb81ff38___FAM_B.Rot 0581.JPG\"\n        ],\n        \"semantic_type\": \"\",\n        \"description\": \"\"\n      }\n    },\n    {\n      \"column\": \"class\",\n      \"properties\": {\n        \"dtype\": \"category\",\n        \"num_unique_values\": 5,\n        \"samples\": [\n          \"Bacteria\",\n          \"Nematodes\",\n          \"Fungi\"\n        ],\n        \"semantic_type\": \"\",\n        \"description\": \"\"\n      }\n    }\n  ]\n}"
            }
          },
          "metadata": {},
          "execution_count": 48
        }
      ]
    },
    {
      "cell_type": "code",
      "source": [
        "df['class'].value_counts()"
      ],
      "metadata": {
        "id": "DnrbrhxB-Y7Q",
        "outputId": "1c6396d8-5584-49f6-88f8-e198e1cb9975",
        "colab": {
          "base_uri": "https://localhost:8080/",
          "height": 272
        }
      },
      "execution_count": 49,
      "outputs": [
        {
          "output_type": "execute_result",
          "data": {
            "text/plain": [
              "class\n",
              "Bacteria     100\n",
              "Virus         50\n",
              "Fungi         50\n",
              "Nematodes     49\n",
              "Normal        40\n",
              "Name: count, dtype: int64"
            ],
            "text/html": [
              "<div>\n",
              "<style scoped>\n",
              "    .dataframe tbody tr th:only-of-type {\n",
              "        vertical-align: middle;\n",
              "    }\n",
              "\n",
              "    .dataframe tbody tr th {\n",
              "        vertical-align: top;\n",
              "    }\n",
              "\n",
              "    .dataframe thead th {\n",
              "        text-align: right;\n",
              "    }\n",
              "</style>\n",
              "<table border=\"1\" class=\"dataframe\">\n",
              "  <thead>\n",
              "    <tr style=\"text-align: right;\">\n",
              "      <th></th>\n",
              "      <th>count</th>\n",
              "    </tr>\n",
              "    <tr>\n",
              "      <th>class</th>\n",
              "      <th></th>\n",
              "    </tr>\n",
              "  </thead>\n",
              "  <tbody>\n",
              "    <tr>\n",
              "      <th>Bacteria</th>\n",
              "      <td>100</td>\n",
              "    </tr>\n",
              "    <tr>\n",
              "      <th>Virus</th>\n",
              "      <td>50</td>\n",
              "    </tr>\n",
              "    <tr>\n",
              "      <th>Fungi</th>\n",
              "      <td>50</td>\n",
              "    </tr>\n",
              "    <tr>\n",
              "      <th>Nematodes</th>\n",
              "      <td>49</td>\n",
              "    </tr>\n",
              "    <tr>\n",
              "      <th>Normal</th>\n",
              "      <td>40</td>\n",
              "    </tr>\n",
              "  </tbody>\n",
              "</table>\n",
              "</div><br><label><b>dtype:</b> int64</label>"
            ]
          },
          "metadata": {},
          "execution_count": 49
        }
      ]
    },
    {
      "cell_type": "code",
      "source": [],
      "metadata": {
        "id": "F_4GMq6FqtaI"
      },
      "execution_count": null,
      "outputs": []
    }
  ]
}