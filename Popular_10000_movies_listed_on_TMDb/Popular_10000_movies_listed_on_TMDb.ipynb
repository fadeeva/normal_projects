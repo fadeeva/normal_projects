{
 "cells": [
  {
   "cell_type": "markdown",
   "metadata": {},
   "source": [
    "# Popular 10000 movies listed on TMDb"
   ]
  },
  {
   "cell_type": "code",
   "execution_count": 2,
   "metadata": {},
   "outputs": [],
   "source": [
    "import pandas as pd\n",
    "import numpy as np\n",
    "import matplotlib.pyplot as plt\n",
    "\n",
    "import seaborn as sns\n",
    "\n",
    "from jupyterthemes import jtplot\n",
    "jtplot.style(figsize=(15, 9))"
   ]
  },
  {
   "cell_type": "code",
   "execution_count": 3,
   "metadata": {},
   "outputs": [],
   "source": [
    "cast_df = pd.read_csv('../data/popular_10000_movies/cast_dataset.csv', index_col='id')\n",
    "crew_df = pd.read_csv('../data/popular_10000_movies/crew_dataset.csv', index_col='id')\n",
    "keywords_df = pd.read_csv('../data/popular_10000_movies/keywords_dataframe.csv', index_col='id')\n",
    "mov_df = pd.read_csv('../data/popular_10000_movies/movies_dataset.csv', index_col='id')\n",
    "\n",
    "keywords_df.drop(['Unnamed: 0'], axis=1, inplace=True)"
   ]
  },
  {
   "cell_type": "code",
   "execution_count": 4,
   "metadata": {},
   "outputs": [],
   "source": [
    "movies_df = mov_df.merge(cast_df, on='id').merge(crew_df, on ='id').merge(keywords_df, on ='id')"
   ]
  },
  {
   "cell_type": "code",
   "execution_count": 6,
   "metadata": {},
   "outputs": [
    {
     "data": {
      "text/html": [
       "<div>\n",
       "<style scoped>\n",
       "    .dataframe tbody tr th:only-of-type {\n",
       "        vertical-align: middle;\n",
       "    }\n",
       "\n",
       "    .dataframe tbody tr th {\n",
       "        vertical-align: top;\n",
       "    }\n",
       "\n",
       "    .dataframe thead th {\n",
       "        text-align: right;\n",
       "    }\n",
       "</style>\n",
       "<table border=\"1\" class=\"dataframe\">\n",
       "  <thead>\n",
       "    <tr style=\"text-align: right;\">\n",
       "      <th></th>\n",
       "      <th>genre_ids</th>\n",
       "      <th>original_language</th>\n",
       "      <th>overview</th>\n",
       "      <th>popularity</th>\n",
       "      <th>release_date</th>\n",
       "      <th>title</th>\n",
       "      <th>vote_average</th>\n",
       "      <th>vote_count</th>\n",
       "      <th>genres</th>\n",
       "      <th>cast</th>\n",
       "      <th>crew</th>\n",
       "      <th>keywords</th>\n",
       "    </tr>\n",
       "    <tr>\n",
       "      <th>id</th>\n",
       "      <th></th>\n",
       "      <th></th>\n",
       "      <th></th>\n",
       "      <th></th>\n",
       "      <th></th>\n",
       "      <th></th>\n",
       "      <th></th>\n",
       "      <th></th>\n",
       "      <th></th>\n",
       "      <th></th>\n",
       "      <th></th>\n",
       "      <th></th>\n",
       "    </tr>\n",
       "  </thead>\n",
       "  <tbody>\n",
       "    <tr>\n",
       "      <th>385687</th>\n",
       "      <td>[28, 80, 53]</td>\n",
       "      <td>en</td>\n",
       "      <td>Over many missions and against impossible odds...</td>\n",
       "      <td>4654.279</td>\n",
       "      <td>2023-05-17</td>\n",
       "      <td>Fast X</td>\n",
       "      <td>7.3</td>\n",
       "      <td>2093</td>\n",
       "      <td>Action, Crime, Thriller</td>\n",
       "      <td>[{'cast_id': 12835, 'name': 'Vin Diesel', 'cha...</td>\n",
       "      <td>[{'crew_id': 1302, 'name': 'Susie Figgis', 'de...</td>\n",
       "      <td>[{'id': 9663, 'name': 'sequel'}, {'id': 9748, ...</td>\n",
       "    </tr>\n",
       "    <tr>\n",
       "      <th>697843</th>\n",
       "      <td>[28, 53]</td>\n",
       "      <td>en</td>\n",
       "      <td>Tasked with extracting a family who is at the ...</td>\n",
       "      <td>2494.010</td>\n",
       "      <td>2023-06-09</td>\n",
       "      <td>Extraction 2</td>\n",
       "      <td>7.7</td>\n",
       "      <td>910</td>\n",
       "      <td>Action, Thriller</td>\n",
       "      <td>[{'cast_id': 74568, 'name': 'Chris Hemsworth',...</td>\n",
       "      <td>[{'crew_id': 950, 'name': 'Pietro Scalia', 'de...</td>\n",
       "      <td>[{'id': 3070, 'name': 'mercenary'}, {'id': 966...</td>\n",
       "    </tr>\n",
       "    <tr>\n",
       "      <th>603692</th>\n",
       "      <td>[28, 53, 80]</td>\n",
       "      <td>en</td>\n",
       "      <td>With the price on his head ever increasing, Jo...</td>\n",
       "      <td>1920.127</td>\n",
       "      <td>2023-03-22</td>\n",
       "      <td>John Wick: Chapter 4</td>\n",
       "      <td>7.9</td>\n",
       "      <td>3344</td>\n",
       "      <td>Action, Thriller, Crime</td>\n",
       "      <td>[{'cast_id': 6384, 'name': 'Keanu Reeves', 'ch...</td>\n",
       "      <td>[{'crew_id': 3615, 'name': 'Manfred Banach', '...</td>\n",
       "      <td>[{'id': 242, 'name': 'new york city'}, {'id': ...</td>\n",
       "    </tr>\n",
       "    <tr>\n",
       "      <th>569094</th>\n",
       "      <td>[28, 12, 16, 878]</td>\n",
       "      <td>en</td>\n",
       "      <td>After reuniting with Gwen Stacy, Brooklyn’s fu...</td>\n",
       "      <td>2013.795</td>\n",
       "      <td>2023-05-31</td>\n",
       "      <td>Spider-Man: Across the Spider-Verse</td>\n",
       "      <td>8.6</td>\n",
       "      <td>1796</td>\n",
       "      <td>Action, Adventure, Animation, Science Fiction</td>\n",
       "      <td>[{'cast_id': 587506, 'name': 'Shameik Moore', ...</td>\n",
       "      <td>[{'crew_id': 7624, 'name': 'Stan Lee', 'depart...</td>\n",
       "      <td>[{'id': 2858, 'name': 'sacrifice'}, {'id': 328...</td>\n",
       "    </tr>\n",
       "    <tr>\n",
       "      <th>502356</th>\n",
       "      <td>[16, 10751, 12, 14, 35]</td>\n",
       "      <td>en</td>\n",
       "      <td>While working underground to fix a water main,...</td>\n",
       "      <td>1539.037</td>\n",
       "      <td>2023-04-05</td>\n",
       "      <td>The Super Mario Bros. Movie</td>\n",
       "      <td>7.8</td>\n",
       "      <td>5165</td>\n",
       "      <td>Animation, Family, Adventure, Fantasy, Comedy</td>\n",
       "      <td>[{'cast_id': 73457, 'name': 'Chris Pratt', 'ch...</td>\n",
       "      <td>[{'crew_id': 70851, 'name': 'Jack Black', 'dep...</td>\n",
       "      <td>[{'id': 282, 'name': 'video game'}, {'id': 690...</td>\n",
       "    </tr>\n",
       "  </tbody>\n",
       "</table>\n",
       "</div>"
      ],
      "text/plain": [
       "                      genre_ids original_language  \\\n",
       "id                                                  \n",
       "385687             [28, 80, 53]                en   \n",
       "697843                 [28, 53]                en   \n",
       "603692             [28, 53, 80]                en   \n",
       "569094        [28, 12, 16, 878]                en   \n",
       "502356  [16, 10751, 12, 14, 35]                en   \n",
       "\n",
       "                                                 overview  popularity  \\\n",
       "id                                                                      \n",
       "385687  Over many missions and against impossible odds...    4654.279   \n",
       "697843  Tasked with extracting a family who is at the ...    2494.010   \n",
       "603692  With the price on his head ever increasing, Jo...    1920.127   \n",
       "569094  After reuniting with Gwen Stacy, Brooklyn’s fu...    2013.795   \n",
       "502356  While working underground to fix a water main,...    1539.037   \n",
       "\n",
       "       release_date                                title  vote_average  \\\n",
       "id                                                                       \n",
       "385687   2023-05-17                               Fast X           7.3   \n",
       "697843   2023-06-09                         Extraction 2           7.7   \n",
       "603692   2023-03-22                 John Wick: Chapter 4           7.9   \n",
       "569094   2023-05-31  Spider-Man: Across the Spider-Verse           8.6   \n",
       "502356   2023-04-05          The Super Mario Bros. Movie           7.8   \n",
       "\n",
       "        vote_count                                         genres  \\\n",
       "id                                                                  \n",
       "385687        2093                        Action, Crime, Thriller   \n",
       "697843         910                               Action, Thriller   \n",
       "603692        3344                        Action, Thriller, Crime   \n",
       "569094        1796  Action, Adventure, Animation, Science Fiction   \n",
       "502356        5165  Animation, Family, Adventure, Fantasy, Comedy   \n",
       "\n",
       "                                                     cast  \\\n",
       "id                                                          \n",
       "385687  [{'cast_id': 12835, 'name': 'Vin Diesel', 'cha...   \n",
       "697843  [{'cast_id': 74568, 'name': 'Chris Hemsworth',...   \n",
       "603692  [{'cast_id': 6384, 'name': 'Keanu Reeves', 'ch...   \n",
       "569094  [{'cast_id': 587506, 'name': 'Shameik Moore', ...   \n",
       "502356  [{'cast_id': 73457, 'name': 'Chris Pratt', 'ch...   \n",
       "\n",
       "                                                     crew  \\\n",
       "id                                                          \n",
       "385687  [{'crew_id': 1302, 'name': 'Susie Figgis', 'de...   \n",
       "697843  [{'crew_id': 950, 'name': 'Pietro Scalia', 'de...   \n",
       "603692  [{'crew_id': 3615, 'name': 'Manfred Banach', '...   \n",
       "569094  [{'crew_id': 7624, 'name': 'Stan Lee', 'depart...   \n",
       "502356  [{'crew_id': 70851, 'name': 'Jack Black', 'dep...   \n",
       "\n",
       "                                                 keywords  \n",
       "id                                                         \n",
       "385687  [{'id': 9663, 'name': 'sequel'}, {'id': 9748, ...  \n",
       "697843  [{'id': 3070, 'name': 'mercenary'}, {'id': 966...  \n",
       "603692  [{'id': 242, 'name': 'new york city'}, {'id': ...  \n",
       "569094  [{'id': 2858, 'name': 'sacrifice'}, {'id': 328...  \n",
       "502356  [{'id': 282, 'name': 'video game'}, {'id': 690...  "
      ]
     },
     "execution_count": 6,
     "metadata": {},
     "output_type": "execute_result"
    }
   ],
   "source": [
    "movies_df.head()"
   ]
  },
  {
   "cell_type": "code",
   "execution_count": 7,
   "metadata": {},
   "outputs": [
    {
     "data": {
      "text/plain": [
       "en    10652\n",
       "Name: original_language, dtype: int64"
      ]
     },
     "execution_count": 7,
     "metadata": {},
     "output_type": "execute_result"
    }
   ],
   "source": [
    "movies_df['original_language'].value_counts()"
   ]
  },
  {
   "cell_type": "code",
   "execution_count": 8,
   "metadata": {},
   "outputs": [],
   "source": [
    "movies_df.drop('original_language', axis=1, inplace=True)"
   ]
  },
  {
   "cell_type": "code",
   "execution_count": 7,
   "metadata": {},
   "outputs": [
    {
     "data": {
      "text/html": [
       "<div>\n",
       "<style scoped>\n",
       "    .dataframe tbody tr th:only-of-type {\n",
       "        vertical-align: middle;\n",
       "    }\n",
       "\n",
       "    .dataframe tbody tr th {\n",
       "        vertical-align: top;\n",
       "    }\n",
       "\n",
       "    .dataframe thead th {\n",
       "        text-align: right;\n",
       "    }\n",
       "</style>\n",
       "<table border=\"1\" class=\"dataframe\">\n",
       "  <thead>\n",
       "    <tr style=\"text-align: right;\">\n",
       "      <th></th>\n",
       "      <th>id</th>\n",
       "      <th>genre_ids</th>\n",
       "      <th>original_language</th>\n",
       "      <th>overview</th>\n",
       "      <th>popularity</th>\n",
       "      <th>release_date</th>\n",
       "      <th>title</th>\n",
       "      <th>vote_average</th>\n",
       "      <th>vote_count</th>\n",
       "      <th>genres</th>\n",
       "      <th>cast</th>\n",
       "      <th>crew</th>\n",
       "      <th>keywords</th>\n",
       "    </tr>\n",
       "  </thead>\n",
       "  <tbody>\n",
       "    <tr>\n",
       "      <th>0</th>\n",
       "      <td>385687</td>\n",
       "      <td>[28, 80, 53]</td>\n",
       "      <td>en</td>\n",
       "      <td>Over many missions and against impossible odds...</td>\n",
       "      <td>4654.279</td>\n",
       "      <td>2023-05-17</td>\n",
       "      <td>Fast X</td>\n",
       "      <td>7.3</td>\n",
       "      <td>2093</td>\n",
       "      <td>Action, Crime, Thriller</td>\n",
       "      <td>[{'cast_id': 12835, 'name': 'Vin Diesel', 'cha...</td>\n",
       "      <td>[{'crew_id': 1302, 'name': 'Susie Figgis', 'de...</td>\n",
       "      <td>[{'id': 9663, 'name': 'sequel'}, {'id': 9748, ...</td>\n",
       "    </tr>\n",
       "    <tr>\n",
       "      <th>1</th>\n",
       "      <td>697843</td>\n",
       "      <td>[28, 53]</td>\n",
       "      <td>en</td>\n",
       "      <td>Tasked with extracting a family who is at the ...</td>\n",
       "      <td>2494.010</td>\n",
       "      <td>2023-06-09</td>\n",
       "      <td>Extraction 2</td>\n",
       "      <td>7.7</td>\n",
       "      <td>910</td>\n",
       "      <td>Action, Thriller</td>\n",
       "      <td>[{'cast_id': 74568, 'name': 'Chris Hemsworth',...</td>\n",
       "      <td>[{'crew_id': 950, 'name': 'Pietro Scalia', 'de...</td>\n",
       "      <td>[{'id': 3070, 'name': 'mercenary'}, {'id': 966...</td>\n",
       "    </tr>\n",
       "    <tr>\n",
       "      <th>2</th>\n",
       "      <td>603692</td>\n",
       "      <td>[28, 53, 80]</td>\n",
       "      <td>en</td>\n",
       "      <td>With the price on his head ever increasing, Jo...</td>\n",
       "      <td>1920.127</td>\n",
       "      <td>2023-03-22</td>\n",
       "      <td>John Wick: Chapter 4</td>\n",
       "      <td>7.9</td>\n",
       "      <td>3344</td>\n",
       "      <td>Action, Thriller, Crime</td>\n",
       "      <td>[{'cast_id': 6384, 'name': 'Keanu Reeves', 'ch...</td>\n",
       "      <td>[{'crew_id': 3615, 'name': 'Manfred Banach', '...</td>\n",
       "      <td>[{'id': 242, 'name': 'new york city'}, {'id': ...</td>\n",
       "    </tr>\n",
       "    <tr>\n",
       "      <th>3</th>\n",
       "      <td>569094</td>\n",
       "      <td>[28, 12, 16, 878]</td>\n",
       "      <td>en</td>\n",
       "      <td>After reuniting with Gwen Stacy, Brooklyn’s fu...</td>\n",
       "      <td>2013.795</td>\n",
       "      <td>2023-05-31</td>\n",
       "      <td>Spider-Man: Across the Spider-Verse</td>\n",
       "      <td>8.6</td>\n",
       "      <td>1796</td>\n",
       "      <td>Action, Adventure, Animation, Science Fiction</td>\n",
       "      <td>[{'cast_id': 587506, 'name': 'Shameik Moore', ...</td>\n",
       "      <td>[{'crew_id': 7624, 'name': 'Stan Lee', 'depart...</td>\n",
       "      <td>[{'id': 2858, 'name': 'sacrifice'}, {'id': 328...</td>\n",
       "    </tr>\n",
       "    <tr>\n",
       "      <th>4</th>\n",
       "      <td>502356</td>\n",
       "      <td>[16, 10751, 12, 14, 35]</td>\n",
       "      <td>en</td>\n",
       "      <td>While working underground to fix a water main,...</td>\n",
       "      <td>1539.037</td>\n",
       "      <td>2023-04-05</td>\n",
       "      <td>The Super Mario Bros. Movie</td>\n",
       "      <td>7.8</td>\n",
       "      <td>5165</td>\n",
       "      <td>Animation, Family, Adventure, Fantasy, Comedy</td>\n",
       "      <td>[{'cast_id': 73457, 'name': 'Chris Pratt', 'ch...</td>\n",
       "      <td>[{'crew_id': 70851, 'name': 'Jack Black', 'dep...</td>\n",
       "      <td>[{'id': 282, 'name': 'video game'}, {'id': 690...</td>\n",
       "    </tr>\n",
       "  </tbody>\n",
       "</table>\n",
       "</div>"
      ],
      "text/plain": [
       "       id                genre_ids original_language  \\\n",
       "0  385687             [28, 80, 53]                en   \n",
       "1  697843                 [28, 53]                en   \n",
       "2  603692             [28, 53, 80]                en   \n",
       "3  569094        [28, 12, 16, 878]                en   \n",
       "4  502356  [16, 10751, 12, 14, 35]                en   \n",
       "\n",
       "                                            overview  popularity release_date  \\\n",
       "0  Over many missions and against impossible odds...    4654.279   2023-05-17   \n",
       "1  Tasked with extracting a family who is at the ...    2494.010   2023-06-09   \n",
       "2  With the price on his head ever increasing, Jo...    1920.127   2023-03-22   \n",
       "3  After reuniting with Gwen Stacy, Brooklyn’s fu...    2013.795   2023-05-31   \n",
       "4  While working underground to fix a water main,...    1539.037   2023-04-05   \n",
       "\n",
       "                                 title  vote_average  vote_count  \\\n",
       "0                               Fast X           7.3        2093   \n",
       "1                         Extraction 2           7.7         910   \n",
       "2                 John Wick: Chapter 4           7.9        3344   \n",
       "3  Spider-Man: Across the Spider-Verse           8.6        1796   \n",
       "4          The Super Mario Bros. Movie           7.8        5165   \n",
       "\n",
       "                                          genres  \\\n",
       "0                        Action, Crime, Thriller   \n",
       "1                               Action, Thriller   \n",
       "2                        Action, Thriller, Crime   \n",
       "3  Action, Adventure, Animation, Science Fiction   \n",
       "4  Animation, Family, Adventure, Fantasy, Comedy   \n",
       "\n",
       "                                                cast  \\\n",
       "0  [{'cast_id': 12835, 'name': 'Vin Diesel', 'cha...   \n",
       "1  [{'cast_id': 74568, 'name': 'Chris Hemsworth',...   \n",
       "2  [{'cast_id': 6384, 'name': 'Keanu Reeves', 'ch...   \n",
       "3  [{'cast_id': 587506, 'name': 'Shameik Moore', ...   \n",
       "4  [{'cast_id': 73457, 'name': 'Chris Pratt', 'ch...   \n",
       "\n",
       "                                                crew  \\\n",
       "0  [{'crew_id': 1302, 'name': 'Susie Figgis', 'de...   \n",
       "1  [{'crew_id': 950, 'name': 'Pietro Scalia', 'de...   \n",
       "2  [{'crew_id': 3615, 'name': 'Manfred Banach', '...   \n",
       "3  [{'crew_id': 7624, 'name': 'Stan Lee', 'depart...   \n",
       "4  [{'crew_id': 70851, 'name': 'Jack Black', 'dep...   \n",
       "\n",
       "                                            keywords  \n",
       "0  [{'id': 9663, 'name': 'sequel'}, {'id': 9748, ...  \n",
       "1  [{'id': 3070, 'name': 'mercenary'}, {'id': 966...  \n",
       "2  [{'id': 242, 'name': 'new york city'}, {'id': ...  \n",
       "3  [{'id': 2858, 'name': 'sacrifice'}, {'id': 328...  \n",
       "4  [{'id': 282, 'name': 'video game'}, {'id': 690...  "
      ]
     },
     "execution_count": 7,
     "metadata": {},
     "output_type": "execute_result"
    }
   ],
   "source": [
    "tmdb_df = pd.read_csv('../data/popular_10000_movies/full_data.csv')\n",
    "tmdb_df.head()"
   ]
  },
  {
   "cell_type": "code",
   "execution_count": 8,
   "metadata": {},
   "outputs": [
    {
     "name": "stdout",
     "output_type": "stream",
     "text": [
      "<class 'pandas.core.frame.DataFrame'>\n",
      "RangeIndex: 10652 entries, 0 to 10651\n",
      "Data columns (total 13 columns):\n",
      " #   Column             Non-Null Count  Dtype  \n",
      "---  ------             --------------  -----  \n",
      " 0   id                 10652 non-null  int64  \n",
      " 1   genre_ids          10652 non-null  object \n",
      " 2   original_language  10652 non-null  object \n",
      " 3   overview           10649 non-null  object \n",
      " 4   popularity         10652 non-null  float64\n",
      " 5   release_date       10636 non-null  object \n",
      " 6   title              10652 non-null  object \n",
      " 7   vote_average       10652 non-null  float64\n",
      " 8   vote_count         10652 non-null  int64  \n",
      " 9   genres             10634 non-null  object \n",
      " 10  cast               10652 non-null  object \n",
      " 11  crew               10652 non-null  object \n",
      " 12  keywords           10652 non-null  object \n",
      "dtypes: float64(2), int64(2), object(9)\n",
      "memory usage: 707.4+ KB\n"
     ]
    }
   ],
   "source": [
    "tmdb_df.info()"
   ]
  },
  {
   "cell_type": "code",
   "execution_count": 9,
   "metadata": {},
   "outputs": [
    {
     "name": "stdout",
     "output_type": "stream",
     "text": [
      "<class 'pandas.core.frame.DataFrame'>\n",
      "RangeIndex: 10652 entries, 0 to 10651\n",
      "Data columns (total 13 columns):\n",
      " #   Column             Non-Null Count  Dtype         \n",
      "---  ------             --------------  -----         \n",
      " 0   id                 10652 non-null  int64         \n",
      " 1   genre_ids          10652 non-null  object        \n",
      " 2   original_language  10652 non-null  object        \n",
      " 3   overview           10649 non-null  object        \n",
      " 4   popularity         10652 non-null  float64       \n",
      " 5   release_date       10636 non-null  datetime64[ns]\n",
      " 6   title              10652 non-null  object        \n",
      " 7   vote_average       10652 non-null  float64       \n",
      " 8   vote_count         10652 non-null  int64         \n",
      " 9   genres             10634 non-null  object        \n",
      " 10  cast               10652 non-null  object        \n",
      " 11  crew               10652 non-null  object        \n",
      " 12  keywords           10652 non-null  object        \n",
      "dtypes: datetime64[ns](1), float64(2), int64(2), object(8)\n",
      "memory usage: 749.0+ KB\n"
     ]
    }
   ],
   "source": [
    "tmdb_df['release_date'] = pd.to_datetime(tmdb_df['release_date'])\n",
    "tmdb_df.info()"
   ]
  },
  {
   "cell_type": "code",
   "execution_count": 26,
   "metadata": {},
   "outputs": [],
   "source": [
    "release_n_popularity = tmdb_df[['release_date', 'popularity']]\n",
    "# release_n_popularity.set_index('release_date', inplace=True)\n",
    "# release_n_popularity = release_n_popularity.sort_index()"
   ]
  },
  {
   "cell_type": "code",
   "execution_count": 27,
   "metadata": {},
   "outputs": [
    {
     "name": "stdout",
     "output_type": "stream",
     "text": [
      "<class 'pandas.core.frame.DataFrame'>\n",
      "RangeIndex: 10652 entries, 0 to 10651\n",
      "Data columns (total 2 columns):\n",
      " #   Column        Non-Null Count  Dtype         \n",
      "---  ------        --------------  -----         \n",
      " 0   release_date  10636 non-null  datetime64[ns]\n",
      " 1   popularity    10652 non-null  float64       \n",
      "dtypes: datetime64[ns](1), float64(1)\n",
      "memory usage: 166.5 KB\n"
     ]
    }
   ],
   "source": [
    "release_n_popularity.info()"
   ]
  },
  {
   "cell_type": "code",
   "execution_count": 28,
   "metadata": {},
   "outputs": [
    {
     "data": {
      "text/html": [
       "<div>\n",
       "<style scoped>\n",
       "    .dataframe tbody tr th:only-of-type {\n",
       "        vertical-align: middle;\n",
       "    }\n",
       "\n",
       "    .dataframe tbody tr th {\n",
       "        vertical-align: top;\n",
       "    }\n",
       "\n",
       "    .dataframe thead th {\n",
       "        text-align: right;\n",
       "    }\n",
       "</style>\n",
       "<table border=\"1\" class=\"dataframe\">\n",
       "  <thead>\n",
       "    <tr style=\"text-align: right;\">\n",
       "      <th></th>\n",
       "      <th>release_date</th>\n",
       "      <th>popularity</th>\n",
       "    </tr>\n",
       "  </thead>\n",
       "  <tbody>\n",
       "    <tr>\n",
       "      <th>0</th>\n",
       "      <td>2023-05-17</td>\n",
       "      <td>4654.279</td>\n",
       "    </tr>\n",
       "    <tr>\n",
       "      <th>1</th>\n",
       "      <td>2023-06-09</td>\n",
       "      <td>2494.010</td>\n",
       "    </tr>\n",
       "    <tr>\n",
       "      <th>2</th>\n",
       "      <td>2023-03-22</td>\n",
       "      <td>1920.127</td>\n",
       "    </tr>\n",
       "    <tr>\n",
       "      <th>3</th>\n",
       "      <td>2023-05-31</td>\n",
       "      <td>2013.795</td>\n",
       "    </tr>\n",
       "    <tr>\n",
       "      <th>4</th>\n",
       "      <td>2023-04-05</td>\n",
       "      <td>1539.037</td>\n",
       "    </tr>\n",
       "    <tr>\n",
       "      <th>...</th>\n",
       "      <td>...</td>\n",
       "      <td>...</td>\n",
       "    </tr>\n",
       "    <tr>\n",
       "      <th>10647</th>\n",
       "      <td>2007-12-21</td>\n",
       "      <td>11.077</td>\n",
       "    </tr>\n",
       "    <tr>\n",
       "      <th>10648</th>\n",
       "      <td>1990-03-22</td>\n",
       "      <td>11.076</td>\n",
       "    </tr>\n",
       "    <tr>\n",
       "      <th>10649</th>\n",
       "      <td>2003-04-16</td>\n",
       "      <td>11.075</td>\n",
       "    </tr>\n",
       "    <tr>\n",
       "      <th>10650</th>\n",
       "      <td>2017-12-23</td>\n",
       "      <td>11.074</td>\n",
       "    </tr>\n",
       "    <tr>\n",
       "      <th>10651</th>\n",
       "      <td>2018-04-27</td>\n",
       "      <td>11.072</td>\n",
       "    </tr>\n",
       "  </tbody>\n",
       "</table>\n",
       "<p>10652 rows × 2 columns</p>\n",
       "</div>"
      ],
      "text/plain": [
       "      release_date  popularity\n",
       "0       2023-05-17    4654.279\n",
       "1       2023-06-09    2494.010\n",
       "2       2023-03-22    1920.127\n",
       "3       2023-05-31    2013.795\n",
       "4       2023-04-05    1539.037\n",
       "...            ...         ...\n",
       "10647   2007-12-21      11.077\n",
       "10648   1990-03-22      11.076\n",
       "10649   2003-04-16      11.075\n",
       "10650   2017-12-23      11.074\n",
       "10651   2018-04-27      11.072\n",
       "\n",
       "[10652 rows x 2 columns]"
      ]
     },
     "execution_count": 28,
     "metadata": {},
     "output_type": "execute_result"
    }
   ],
   "source": [
    "release_n_popularity"
   ]
  },
  {
   "cell_type": "code",
   "execution_count": 29,
   "metadata": {},
   "outputs": [
    {
     "data": {
      "text/html": [
       "<div>\n",
       "<style scoped>\n",
       "    .dataframe tbody tr th:only-of-type {\n",
       "        vertical-align: middle;\n",
       "    }\n",
       "\n",
       "    .dataframe tbody tr th {\n",
       "        vertical-align: top;\n",
       "    }\n",
       "\n",
       "    .dataframe thead th {\n",
       "        text-align: right;\n",
       "    }\n",
       "</style>\n",
       "<table border=\"1\" class=\"dataframe\">\n",
       "  <thead>\n",
       "    <tr style=\"text-align: right;\">\n",
       "      <th></th>\n",
       "      <th>release_date</th>\n",
       "      <th>popularity</th>\n",
       "    </tr>\n",
       "  </thead>\n",
       "  <tbody>\n",
       "    <tr>\n",
       "      <th>0</th>\n",
       "      <td>2023-05-17</td>\n",
       "      <td>4654.279</td>\n",
       "    </tr>\n",
       "    <tr>\n",
       "      <th>1</th>\n",
       "      <td>2023-06-09</td>\n",
       "      <td>2494.010</td>\n",
       "    </tr>\n",
       "    <tr>\n",
       "      <th>2</th>\n",
       "      <td>2023-03-22</td>\n",
       "      <td>1920.127</td>\n",
       "    </tr>\n",
       "    <tr>\n",
       "      <th>3</th>\n",
       "      <td>2023-05-31</td>\n",
       "      <td>2013.795</td>\n",
       "    </tr>\n",
       "    <tr>\n",
       "      <th>4</th>\n",
       "      <td>2023-04-05</td>\n",
       "      <td>1539.037</td>\n",
       "    </tr>\n",
       "    <tr>\n",
       "      <th>...</th>\n",
       "      <td>...</td>\n",
       "      <td>...</td>\n",
       "    </tr>\n",
       "    <tr>\n",
       "      <th>10647</th>\n",
       "      <td>2007-12-21</td>\n",
       "      <td>11.077</td>\n",
       "    </tr>\n",
       "    <tr>\n",
       "      <th>10648</th>\n",
       "      <td>1990-03-22</td>\n",
       "      <td>11.076</td>\n",
       "    </tr>\n",
       "    <tr>\n",
       "      <th>10649</th>\n",
       "      <td>2003-04-16</td>\n",
       "      <td>11.075</td>\n",
       "    </tr>\n",
       "    <tr>\n",
       "      <th>10650</th>\n",
       "      <td>2017-12-23</td>\n",
       "      <td>11.074</td>\n",
       "    </tr>\n",
       "    <tr>\n",
       "      <th>10651</th>\n",
       "      <td>2018-04-27</td>\n",
       "      <td>11.072</td>\n",
       "    </tr>\n",
       "  </tbody>\n",
       "</table>\n",
       "<p>10636 rows × 2 columns</p>\n",
       "</div>"
      ],
      "text/plain": [
       "      release_date  popularity\n",
       "0       2023-05-17    4654.279\n",
       "1       2023-06-09    2494.010\n",
       "2       2023-03-22    1920.127\n",
       "3       2023-05-31    2013.795\n",
       "4       2023-04-05    1539.037\n",
       "...            ...         ...\n",
       "10647   2007-12-21      11.077\n",
       "10648   1990-03-22      11.076\n",
       "10649   2003-04-16      11.075\n",
       "10650   2017-12-23      11.074\n",
       "10651   2018-04-27      11.072\n",
       "\n",
       "[10636 rows x 2 columns]"
      ]
     },
     "execution_count": 29,
     "metadata": {},
     "output_type": "execute_result"
    }
   ],
   "source": [
    "release_n_popularity = release_n_popularity.dropna()\n",
    "release_n_popularity"
   ]
  },
  {
   "cell_type": "code",
   "execution_count": 33,
   "metadata": {},
   "outputs": [
    {
     "data": {
      "text/html": [
       "<div>\n",
       "<style scoped>\n",
       "    .dataframe tbody tr th:only-of-type {\n",
       "        vertical-align: middle;\n",
       "    }\n",
       "\n",
       "    .dataframe tbody tr th {\n",
       "        vertical-align: top;\n",
       "    }\n",
       "\n",
       "    .dataframe thead th {\n",
       "        text-align: right;\n",
       "    }\n",
       "</style>\n",
       "<table border=\"1\" class=\"dataframe\">\n",
       "  <thead>\n",
       "    <tr style=\"text-align: right;\">\n",
       "      <th></th>\n",
       "      <th>popularity</th>\n",
       "    </tr>\n",
       "  </thead>\n",
       "  <tbody>\n",
       "    <tr>\n",
       "      <th>count</th>\n",
       "      <td>10636.000000</td>\n",
       "    </tr>\n",
       "    <tr>\n",
       "      <th>mean</th>\n",
       "      <td>26.587947</td>\n",
       "    </tr>\n",
       "    <tr>\n",
       "      <th>std</th>\n",
       "      <td>73.321070</td>\n",
       "    </tr>\n",
       "    <tr>\n",
       "      <th>min</th>\n",
       "      <td>7.007000</td>\n",
       "    </tr>\n",
       "    <tr>\n",
       "      <th>25%</th>\n",
       "      <td>13.157000</td>\n",
       "    </tr>\n",
       "    <tr>\n",
       "      <th>50%</th>\n",
       "      <td>16.449000</td>\n",
       "    </tr>\n",
       "    <tr>\n",
       "      <th>75%</th>\n",
       "      <td>23.886750</td>\n",
       "    </tr>\n",
       "    <tr>\n",
       "      <th>max</th>\n",
       "      <td>4654.279000</td>\n",
       "    </tr>\n",
       "  </tbody>\n",
       "</table>\n",
       "</div>"
      ],
      "text/plain": [
       "         popularity\n",
       "count  10636.000000\n",
       "mean      26.587947\n",
       "std       73.321070\n",
       "min        7.007000\n",
       "25%       13.157000\n",
       "50%       16.449000\n",
       "75%       23.886750\n",
       "max     4654.279000"
      ]
     },
     "execution_count": 33,
     "metadata": {},
     "output_type": "execute_result"
    }
   ],
   "source": [
    "release_n_popularity.describe()"
   ]
  },
  {
   "cell_type": "code",
   "execution_count": 16,
   "metadata": {},
   "outputs": [
    {
     "data": {
      "text/plain": [
       "Text(0, 0.5, 'Popularity')"
      ]
     },
     "execution_count": 16,
     "metadata": {},
     "output_type": "execute_result"
    },
    {
     "data": {
      "image/png": "[encoded data removed]",
      "text/plain": [
       "<Figure size 864x518.4 with 1 Axes>"
      ]
     },
     "metadata": {},
     "output_type": "display_data"
    }
   ],
   "source": [
    "plt.hist(release_n_popularity)\n",
    "plt.title('Release Date & Popularity')\n",
    "plt.xlabel('Date')\n",
    "plt.ylabel('Popularity')"
   ]
  },
  {
   "cell_type": "code",
   "execution_count": 25,
   "metadata": {},
   "outputs": [
    {
     "data": {
      "text/plain": [
       "<AxesSubplot:xlabel='popularity', ylabel='title'>"
      ]
     },
     "execution_count": 25,
     "metadata": {},
     "output_type": "execute_result"
    },
    {
     "data": {
      "image/png": "[encoded data removed]",
      "text/plain": [
       "<Figure size 864x518.4 with 1 Axes>"
      ]
     },
     "metadata": {},
     "output_type": "display_data"
    }
   ],
   "source": [
    "top_popularity = movies_df.sort_values(['popularity'], ascending=False).head(20)\n",
    "sns.barplot(data=top_popularity, x='popularity', y='title')"
   ]
  },
  {
   "cell_type": "code",
   "execution_count": 26,
   "metadata": {},
   "outputs": [
    {
     "data": {
      "text/plain": [
       "<AxesSubplot:xlabel='vote_average', ylabel='title'>"
      ]
     },
     "execution_count": 26,
     "metadata": {},
     "output_type": "execute_result"
    },
    {
     "data": {
      "image/png": "[encoded data removed]",
      "text/plain": [
       "<Figure size 864x518.4 with 1 Axes>"
      ]
     },
     "metadata": {},
     "output_type": "display_data"
    }
   ],
   "source": [
    "top_vote = movies_df.sort_values(['vote_average'], ascending=False).head(20)\n",
    "sns.barplot(data=top_vote, x='vote_average', y='title')"
   ]
  },
  {
   "cell_type": "code",
   "execution_count": null,
   "metadata": {},
   "outputs": [],
   "source": []
  }
 ],
 "metadata": {
  "kernelspec": {
   "display_name": "Python 3",
   "language": "python",
   "name": "python3"
  },
  "language_info": {
   "codemirror_mode": {
    "name": "ipython",
    "version": 3
   },
   "file_extension": ".py",
   "mimetype": "text/x-python",
   "name": "python",
   "nbconvert_exporter": "python",
   "pygments_lexer": "ipython3",
   "version": "3.8.5"
  }
 },
 "nbformat": 4,
 "nbformat_minor": 2
}
