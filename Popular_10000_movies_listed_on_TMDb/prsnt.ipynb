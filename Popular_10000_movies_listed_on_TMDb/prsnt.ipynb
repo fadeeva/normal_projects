{
 "cells": [
  {
   "cell_type": "markdown",
   "metadata": {},
   "source": [
    "# Movie Recommendation System"
   ]
  },
  {
   "cell_type": "code",
   "execution_count": 1,
   "metadata": {},
   "outputs": [],
   "source": [
    "from collections import Counter\n",
    "from itertools import combinations\n",
    "import re\n",
    "\n",
    "import pandas as pd\n",
    "import numpy as np\n",
    "\n",
    "from sklearn.preprocessing import StandardScaler\n",
    "from sklearn.preprocessing import LabelEncoder\n",
    "from sklearn.metrics.pairwise import cosine_similarity\n",
    "\n",
    "import matplotlib.pyplot as plt\n",
    "import seaborn as sns\n",
    "\n",
    "import pickle as pk\n",
    "\n",
    "from jupyterthemes import jtplot\n",
    "jtplot.style(figsize=(15, 9))"
   ]
  },
  {
   "cell_type": "markdown",
   "metadata": {},
   "source": [
    "## Data Cleaning"
   ]
  },
  {
   "cell_type": "code",
   "execution_count": 2,
   "metadata": {},
   "outputs": [],
   "source": [
    "cast_df = pd.read_csv('../data/popular_10000_movies/cast_dataset.csv', index_col='id')\n",
    "crew_df = pd.read_csv('../data/popular_10000_movies/crew_dataset.csv', index_col='id')\n",
    "keywords_df = pd.read_csv('../data/popular_10000_movies/keywords_dataframe.csv', index_col='id')\n",
    "mov_df = pd.read_csv('../data/popular_10000_movies/movies_dataset.csv', index_col='id')"
   ]
  },
  {
   "cell_type": "code",
   "execution_count": 3,
   "metadata": {},
   "outputs": [],
   "source": [
    "keywords_df.drop(['Unnamed: 0'], axis=1, inplace=True)"
   ]
  },
  {
   "cell_type": "code",
   "execution_count": 27,
   "metadata": {},
   "outputs": [],
   "source": [
    "movies_df = mov_df.merge(cast_df, on='id').merge(crew_df, on ='id').merge(keywords_df, on ='id')\n",
    "movies_df['release_date'] = pd.to_datetime(movies_df['release_date'])"
   ]
  },
  {
   "cell_type": "code",
   "execution_count": 28,
   "metadata": {},
   "outputs": [
    {
     "data": {
      "text/html": [
       "<div>\n",
       "<style scoped>\n",
       "    .dataframe tbody tr th:only-of-type {\n",
       "        vertical-align: middle;\n",
       "    }\n",
       "\n",
       "    .dataframe tbody tr th {\n",
       "        vertical-align: top;\n",
       "    }\n",
       "\n",
       "    .dataframe thead th {\n",
       "        text-align: right;\n",
       "    }\n",
       "</style>\n",
       "<table border=\"1\" class=\"dataframe\">\n",
       "  <thead>\n",
       "    <tr style=\"text-align: right;\">\n",
       "      <th></th>\n",
       "      <th>genre_ids</th>\n",
       "      <th>original_language</th>\n",
       "      <th>overview</th>\n",
       "      <th>popularity</th>\n",
       "      <th>release_date</th>\n",
       "      <th>title</th>\n",
       "      <th>vote_average</th>\n",
       "      <th>vote_count</th>\n",
       "      <th>genres</th>\n",
       "      <th>cast</th>\n",
       "      <th>crew</th>\n",
       "      <th>keywords</th>\n",
       "    </tr>\n",
       "    <tr>\n",
       "      <th>id</th>\n",
       "      <th></th>\n",
       "      <th></th>\n",
       "      <th></th>\n",
       "      <th></th>\n",
       "      <th></th>\n",
       "      <th></th>\n",
       "      <th></th>\n",
       "      <th></th>\n",
       "      <th></th>\n",
       "      <th></th>\n",
       "      <th></th>\n",
       "      <th></th>\n",
       "    </tr>\n",
       "  </thead>\n",
       "  <tbody>\n",
       "    <tr>\n",
       "      <th>385687</th>\n",
       "      <td>[28, 80, 53]</td>\n",
       "      <td>en</td>\n",
       "      <td>Over many missions and against impossible odds...</td>\n",
       "      <td>4654.279</td>\n",
       "      <td>2023-05-17</td>\n",
       "      <td>Fast X</td>\n",
       "      <td>7.3</td>\n",
       "      <td>2093</td>\n",
       "      <td>Action, Crime, Thriller</td>\n",
       "      <td>[{'cast_id': 12835, 'name': 'Vin Diesel', 'cha...</td>\n",
       "      <td>[{'crew_id': 1302, 'name': 'Susie Figgis', 'de...</td>\n",
       "      <td>[{'id': 9663, 'name': 'sequel'}, {'id': 9748, ...</td>\n",
       "    </tr>\n",
       "    <tr>\n",
       "      <th>697843</th>\n",
       "      <td>[28, 53]</td>\n",
       "      <td>en</td>\n",
       "      <td>Tasked with extracting a family who is at the ...</td>\n",
       "      <td>2494.010</td>\n",
       "      <td>2023-06-09</td>\n",
       "      <td>Extraction 2</td>\n",
       "      <td>7.7</td>\n",
       "      <td>910</td>\n",
       "      <td>Action, Thriller</td>\n",
       "      <td>[{'cast_id': 74568, 'name': 'Chris Hemsworth',...</td>\n",
       "      <td>[{'crew_id': 950, 'name': 'Pietro Scalia', 'de...</td>\n",
       "      <td>[{'id': 3070, 'name': 'mercenary'}, {'id': 966...</td>\n",
       "    </tr>\n",
       "    <tr>\n",
       "      <th>603692</th>\n",
       "      <td>[28, 53, 80]</td>\n",
       "      <td>en</td>\n",
       "      <td>With the price on his head ever increasing, Jo...</td>\n",
       "      <td>1920.127</td>\n",
       "      <td>2023-03-22</td>\n",
       "      <td>John Wick: Chapter 4</td>\n",
       "      <td>7.9</td>\n",
       "      <td>3344</td>\n",
       "      <td>Action, Thriller, Crime</td>\n",
       "      <td>[{'cast_id': 6384, 'name': 'Keanu Reeves', 'ch...</td>\n",
       "      <td>[{'crew_id': 3615, 'name': 'Manfred Banach', '...</td>\n",
       "      <td>[{'id': 242, 'name': 'new york city'}, {'id': ...</td>\n",
       "    </tr>\n",
       "    <tr>\n",
       "      <th>569094</th>\n",
       "      <td>[28, 12, 16, 878]</td>\n",
       "      <td>en</td>\n",
       "      <td>After reuniting with Gwen Stacy, Brooklyn’s fu...</td>\n",
       "      <td>2013.795</td>\n",
       "      <td>2023-05-31</td>\n",
       "      <td>Spider-Man: Across the Spider-Verse</td>\n",
       "      <td>8.6</td>\n",
       "      <td>1796</td>\n",
       "      <td>Action, Adventure, Animation, Science Fiction</td>\n",
       "      <td>[{'cast_id': 587506, 'name': 'Shameik Moore', ...</td>\n",
       "      <td>[{'crew_id': 7624, 'name': 'Stan Lee', 'depart...</td>\n",
       "      <td>[{'id': 2858, 'name': 'sacrifice'}, {'id': 328...</td>\n",
       "    </tr>\n",
       "    <tr>\n",
       "      <th>502356</th>\n",
       "      <td>[16, 10751, 12, 14, 35]</td>\n",
       "      <td>en</td>\n",
       "      <td>While working underground to fix a water main,...</td>\n",
       "      <td>1539.037</td>\n",
       "      <td>2023-04-05</td>\n",
       "      <td>The Super Mario Bros. Movie</td>\n",
       "      <td>7.8</td>\n",
       "      <td>5165</td>\n",
       "      <td>Animation, Family, Adventure, Fantasy, Comedy</td>\n",
       "      <td>[{'cast_id': 73457, 'name': 'Chris Pratt', 'ch...</td>\n",
       "      <td>[{'crew_id': 70851, 'name': 'Jack Black', 'dep...</td>\n",
       "      <td>[{'id': 282, 'name': 'video game'}, {'id': 690...</td>\n",
       "    </tr>\n",
       "  </tbody>\n",
       "</table>\n",
       "</div>"
      ],
      "text/plain": [
       "                      genre_ids original_language  \\\n",
       "id                                                  \n",
       "385687             [28, 80, 53]                en   \n",
       "697843                 [28, 53]                en   \n",
       "603692             [28, 53, 80]                en   \n",
       "569094        [28, 12, 16, 878]                en   \n",
       "502356  [16, 10751, 12, 14, 35]                en   \n",
       "\n",
       "                                                 overview  popularity  \\\n",
       "id                                                                      \n",
       "385687  Over many missions and against impossible odds...    4654.279   \n",
       "697843  Tasked with extracting a family who is at the ...    2494.010   \n",
       "603692  With the price on his head ever increasing, Jo...    1920.127   \n",
       "569094  After reuniting with Gwen Stacy, Brooklyn’s fu...    2013.795   \n",
       "502356  While working underground to fix a water main,...    1539.037   \n",
       "\n",
       "       release_date                                title  vote_average  \\\n",
       "id                                                                       \n",
       "385687   2023-05-17                               Fast X           7.3   \n",
       "697843   2023-06-09                         Extraction 2           7.7   \n",
       "603692   2023-03-22                 John Wick: Chapter 4           7.9   \n",
       "569094   2023-05-31  Spider-Man: Across the Spider-Verse           8.6   \n",
       "502356   2023-04-05          The Super Mario Bros. Movie           7.8   \n",
       "\n",
       "        vote_count                                         genres  \\\n",
       "id                                                                  \n",
       "385687        2093                        Action, Crime, Thriller   \n",
       "697843         910                               Action, Thriller   \n",
       "603692        3344                        Action, Thriller, Crime   \n",
       "569094        1796  Action, Adventure, Animation, Science Fiction   \n",
       "502356        5165  Animation, Family, Adventure, Fantasy, Comedy   \n",
       "\n",
       "                                                     cast  \\\n",
       "id                                                          \n",
       "385687  [{'cast_id': 12835, 'name': 'Vin Diesel', 'cha...   \n",
       "697843  [{'cast_id': 74568, 'name': 'Chris Hemsworth',...   \n",
       "603692  [{'cast_id': 6384, 'name': 'Keanu Reeves', 'ch...   \n",
       "569094  [{'cast_id': 587506, 'name': 'Shameik Moore', ...   \n",
       "502356  [{'cast_id': 73457, 'name': 'Chris Pratt', 'ch...   \n",
       "\n",
       "                                                     crew  \\\n",
       "id                                                          \n",
       "385687  [{'crew_id': 1302, 'name': 'Susie Figgis', 'de...   \n",
       "697843  [{'crew_id': 950, 'name': 'Pietro Scalia', 'de...   \n",
       "603692  [{'crew_id': 3615, 'name': 'Manfred Banach', '...   \n",
       "569094  [{'crew_id': 7624, 'name': 'Stan Lee', 'depart...   \n",
       "502356  [{'crew_id': 70851, 'name': 'Jack Black', 'dep...   \n",
       "\n",
       "                                                 keywords  \n",
       "id                                                         \n",
       "385687  [{'id': 9663, 'name': 'sequel'}, {'id': 9748, ...  \n",
       "697843  [{'id': 3070, 'name': 'mercenary'}, {'id': 966...  \n",
       "603692  [{'id': 242, 'name': 'new york city'}, {'id': ...  \n",
       "569094  [{'id': 2858, 'name': 'sacrifice'}, {'id': 328...  \n",
       "502356  [{'id': 282, 'name': 'video game'}, {'id': 690...  "
      ]
     },
     "execution_count": 28,
     "metadata": {},
     "output_type": "execute_result"
    }
   ],
   "source": [
    "movies_df.head()"
   ]
  },
  {
   "cell_type": "code",
   "execution_count": 29,
   "metadata": {},
   "outputs": [
    {
     "data": {
      "text/plain": [
       "(10652, 12)"
      ]
     },
     "execution_count": 29,
     "metadata": {},
     "output_type": "execute_result"
    }
   ],
   "source": [
    "movies_df.shape"
   ]
  },
  {
   "cell_type": "code",
   "execution_count": 30,
   "metadata": {},
   "outputs": [
    {
     "name": "stdout",
     "output_type": "stream",
     "text": [
      "<class 'pandas.core.frame.DataFrame'>\n",
      "Int64Index: 10652 entries, 385687 to 465109\n",
      "Data columns (total 12 columns):\n",
      " #   Column             Non-Null Count  Dtype         \n",
      "---  ------             --------------  -----         \n",
      " 0   genre_ids          10652 non-null  object        \n",
      " 1   original_language  10652 non-null  object        \n",
      " 2   overview           10649 non-null  object        \n",
      " 3   popularity         10652 non-null  float64       \n",
      " 4   release_date       10636 non-null  datetime64[ns]\n",
      " 5   title              10652 non-null  object        \n",
      " 6   vote_average       10652 non-null  float64       \n",
      " 7   vote_count         10652 non-null  int64         \n",
      " 8   genres             10634 non-null  object        \n",
      " 9   cast               10652 non-null  object        \n",
      " 10  crew               10652 non-null  object        \n",
      " 11  keywords           10652 non-null  object        \n",
      "dtypes: datetime64[ns](1), float64(2), int64(1), object(8)\n",
      "memory usage: 749.0+ KB\n"
     ]
    }
   ],
   "source": [
    "movies_df.info()"
   ]
  },
  {
   "cell_type": "code",
   "execution_count": 31,
   "metadata": {},
   "outputs": [
    {
     "data": {
      "text/plain": [
       "en    10652\n",
       "Name: original_language, dtype: int64"
      ]
     },
     "execution_count": 31,
     "metadata": {},
     "output_type": "execute_result"
    }
   ],
   "source": [
    "movies_df['original_language'].value_counts()"
   ]
  },
  {
   "cell_type": "code",
   "execution_count": 32,
   "metadata": {},
   "outputs": [],
   "source": [
    "movies_df.drop('original_language', axis=1, inplace=True)"
   ]
  },
  {
   "cell_type": "code",
   "execution_count": 33,
   "metadata": {},
   "outputs": [
    {
     "data": {
      "text/plain": [
       "genre_ids        0\n",
       "overview         3\n",
       "popularity       0\n",
       "release_date    16\n",
       "title            0\n",
       "vote_average     0\n",
       "vote_count       0\n",
       "genres          18\n",
       "cast             0\n",
       "crew             0\n",
       "keywords         0\n",
       "dtype: int64"
      ]
     },
     "execution_count": 33,
     "metadata": {},
     "output_type": "execute_result"
    }
   ],
   "source": [
    "movies_df.isnull().sum()"
   ]
  },
  {
   "cell_type": "code",
   "execution_count": 34,
   "metadata": {},
   "outputs": [],
   "source": [
    "movies_df.drop(movies_df[movies_df['keywords']=='[]'].index, axis=0, inplace=True)\n",
    "movies_df.drop(movies_df[movies_df['cast']=='[]'].index, axis=0, inplace=True)\n",
    "movies_df.drop(movies_df[movies_df['crew']=='[]'].index, axis=0, inplace=True)\n",
    "movies_df.drop(movies_df[movies_df['vote_average']==0].index, axis=0, inplace=True)\n",
    "movies_df.dropna(axis=0, inplace=True)"
   ]
  },
  {
   "cell_type": "code",
   "execution_count": 35,
   "metadata": {},
   "outputs": [
    {
     "data": {
      "text/plain": [
       "genre_ids       0\n",
       "overview        0\n",
       "popularity      0\n",
       "release_date    0\n",
       "title           0\n",
       "vote_average    0\n",
       "vote_count      0\n",
       "genres          0\n",
       "cast            0\n",
       "crew            0\n",
       "keywords        0\n",
       "dtype: int64"
      ]
     },
     "execution_count": 35,
     "metadata": {},
     "output_type": "execute_result"
    }
   ],
   "source": [
    "movies_df.isnull().sum()"
   ]
  },
  {
   "cell_type": "markdown",
   "metadata": {},
   "source": [
    "## EDA"
   ]
  },
  {
   "cell_type": "code",
   "execution_count": null,
   "metadata": {},
   "outputs": [],
   "source": []
  }
 ],
 "metadata": {
  "kernelspec": {
   "display_name": "Python 3",
   "language": "python",
   "name": "python3"
  },
  "language_info": {
   "codemirror_mode": {
    "name": "ipython",
    "version": 3
   },
   "file_extension": ".py",
   "mimetype": "text/x-python",
   "name": "python",
   "nbconvert_exporter": "python",
   "pygments_lexer": "ipython3",
   "version": "3.8.5"
  }
 },
 "nbformat": 4,
 "nbformat_minor": 2
}
