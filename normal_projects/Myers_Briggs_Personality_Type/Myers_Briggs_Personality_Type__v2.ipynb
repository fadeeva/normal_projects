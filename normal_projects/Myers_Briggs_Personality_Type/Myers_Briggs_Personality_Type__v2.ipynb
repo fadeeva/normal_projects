{
  "nbformat": 4,
  "nbformat_minor": 0,
  "metadata": {
    "colab": {
      "provenance": [],
      "authorship_tag": "ABX9TyOct2DPkLj7sCzwAiq8+dMK"
    },
    "kernelspec": {
      "name": "python3",
      "display_name": "Python 3"
    },
    "language_info": {
      "name": "python"
    }
  },
  "cells": [
    {
      "cell_type": "code",
      "source": [
        "import re\n",
        "\n",
        "import pandas as pd\n",
        "import numpy as np\n",
        "\n",
        "import matplotlib.pyplot as plt\n",
        "import seaborn as sns\n",
        "\n",
        "plt.style.use('ggplot')"
      ],
      "metadata": {
        "id": "PhKtDoKGcEAT"
      },
      "execution_count": 25,
      "outputs": []
    },
    {
      "cell_type": "code",
      "execution_count": 1,
      "metadata": {
        "colab": {
          "base_uri": "https://localhost:8080/"
        },
        "id": "qfqMPwyjad4Y",
        "outputId": "24ee2b59-9669-4fbd-95e0-56d5009a6405"
      },
      "outputs": [
        {
          "output_type": "stream",
          "name": "stdout",
          "text": [
            "Downloading from https://www.kaggle.com/api/v1/datasets/download/datasnaek/mbti-type?dataset_version_number=1...\n"
          ]
        },
        {
          "output_type": "stream",
          "name": "stderr",
          "text": [
            "100%|██████████| 24.4M/24.4M [00:00<00:00, 74.4MB/s]"
          ]
        },
        {
          "output_type": "stream",
          "name": "stdout",
          "text": [
            "Extracting files...\n"
          ]
        },
        {
          "output_type": "stream",
          "name": "stderr",
          "text": [
            "\n"
          ]
        }
      ],
      "source": [
        "import kagglehub\n",
        "\n",
        "path = kagglehub.dataset_download(\"datasnaek/mbti-type\")\n"
      ]
    },
    {
      "cell_type": "code",
      "source": [
        "data = pd.read_csv(f'{path}/mbti_1.csv')\n",
        "data.head()"
      ],
      "metadata": {
        "colab": {
          "base_uri": "https://localhost:8080/",
          "height": 206
        },
        "id": "1CgPtaNRb1xG",
        "outputId": "c09445ab-6903-4c5a-d567-18f3495de55b"
      },
      "execution_count": 5,
      "outputs": [
        {
          "output_type": "execute_result",
          "data": {
            "text/plain": [
              "   type                                              posts\n",
              "0  INFJ  'http://www.youtube.com/watch?v=qsXHcwe3krw|||...\n",
              "1  ENTP  'I'm finding the lack of me in these posts ver...\n",
              "2  INTP  'Good one  _____   https://www.youtube.com/wat...\n",
              "3  INTJ  'Dear INTP,   I enjoyed our conversation the o...\n",
              "4  ENTJ  'You're fired.|||That's another silly misconce..."
            ],
            "text/html": [
              "\n",
              "  <div id=\"df-46b78a91-c8f2-4ca3-88f1-1ad2ed4afb19\" class=\"colab-df-container\">\n",
              "    <div>\n",
              "<style scoped>\n",
              "    .dataframe tbody tr th:only-of-type {\n",
              "        vertical-align: middle;\n",
              "    }\n",
              "\n",
              "    .dataframe tbody tr th {\n",
              "        vertical-align: top;\n",
              "    }\n",
              "\n",
              "    .dataframe thead th {\n",
              "        text-align: right;\n",
              "    }\n",
              "</style>\n",
              "<table border=\"1\" class=\"dataframe\">\n",
              "  <thead>\n",
              "    <tr style=\"text-align: right;\">\n",
              "      <th></th>\n",
              "      <th>type</th>\n",
              "      <th>posts</th>\n",
              "    </tr>\n",
              "  </thead>\n",
              "  <tbody>\n",
              "    <tr>\n",
              "      <th>0</th>\n",
              "      <td>INFJ</td>\n",
              "      <td>'http://www.youtube.com/watch?v=qsXHcwe3krw|||...</td>\n",
              "    </tr>\n",
              "    <tr>\n",
              "      <th>1</th>\n",
              "      <td>ENTP</td>\n",
              "      <td>'I'm finding the lack of me in these posts ver...</td>\n",
              "    </tr>\n",
              "    <tr>\n",
              "      <th>2</th>\n",
              "      <td>INTP</td>\n",
              "      <td>'Good one  _____   https://www.youtube.com/wat...</td>\n",
              "    </tr>\n",
              "    <tr>\n",
              "      <th>3</th>\n",
              "      <td>INTJ</td>\n",
              "      <td>'Dear INTP,   I enjoyed our conversation the o...</td>\n",
              "    </tr>\n",
              "    <tr>\n",
              "      <th>4</th>\n",
              "      <td>ENTJ</td>\n",
              "      <td>'You're fired.|||That's another silly misconce...</td>\n",
              "    </tr>\n",
              "  </tbody>\n",
              "</table>\n",
              "</div>\n",
              "    <div class=\"colab-df-buttons\">\n",
              "\n",
              "  <div class=\"colab-df-container\">\n",
              "    <button class=\"colab-df-convert\" onclick=\"convertToInteractive('df-46b78a91-c8f2-4ca3-88f1-1ad2ed4afb19')\"\n",
              "            title=\"Convert this dataframe to an interactive table.\"\n",
              "            style=\"display:none;\">\n",
              "\n",
              "  <svg xmlns=\"http://www.w3.org/2000/svg\" height=\"24px\" viewBox=\"0 -960 960 960\">\n",
              "    <path d=\"M120-120v-720h720v720H120Zm60-500h600v-160H180v160Zm220 220h160v-160H400v160Zm0 220h160v-160H400v160ZM180-400h160v-160H180v160Zm440 0h160v-160H620v160ZM180-180h160v-160H180v160Zm440 0h160v-160H620v160Z\"/>\n",
              "  </svg>\n",
              "    </button>\n",
              "\n",
              "  <style>\n",
              "    .colab-df-container {\n",
              "      display:flex;\n",
              "      gap: 12px;\n",
              "    }\n",
              "\n",
              "    .colab-df-convert {\n",
              "      background-color: #E8F0FE;\n",
              "      border: none;\n",
              "      border-radius: 50%;\n",
              "      cursor: pointer;\n",
              "      display: none;\n",
              "      fill: #1967D2;\n",
              "      height: 32px;\n",
              "      padding: 0 0 0 0;\n",
              "      width: 32px;\n",
              "    }\n",
              "\n",
              "    .colab-df-convert:hover {\n",
              "      background-color: #E2EBFA;\n",
              "      box-shadow: 0px 1px 2px rgba(60, 64, 67, 0.3), 0px 1px 3px 1px rgba(60, 64, 67, 0.15);\n",
              "      fill: #174EA6;\n",
              "    }\n",
              "\n",
              "    .colab-df-buttons div {\n",
              "      margin-bottom: 4px;\n",
              "    }\n",
              "\n",
              "    [theme=dark] .colab-df-convert {\n",
              "      background-color: #3B4455;\n",
              "      fill: #D2E3FC;\n",
              "    }\n",
              "\n",
              "    [theme=dark] .colab-df-convert:hover {\n",
              "      background-color: #434B5C;\n",
              "      box-shadow: 0px 1px 3px 1px rgba(0, 0, 0, 0.15);\n",
              "      filter: drop-shadow(0px 1px 2px rgba(0, 0, 0, 0.3));\n",
              "      fill: #FFFFFF;\n",
              "    }\n",
              "  </style>\n",
              "\n",
              "    <script>\n",
              "      const buttonEl =\n",
              "        document.querySelector('#df-46b78a91-c8f2-4ca3-88f1-1ad2ed4afb19 button.colab-df-convert');\n",
              "      buttonEl.style.display =\n",
              "        google.colab.kernel.accessAllowed ? 'block' : 'none';\n",
              "\n",
              "      async function convertToInteractive(key) {\n",
              "        const element = document.querySelector('#df-46b78a91-c8f2-4ca3-88f1-1ad2ed4afb19');\n",
              "        const dataTable =\n",
              "          await google.colab.kernel.invokeFunction('convertToInteractive',\n",
              "                                                    [key], {});\n",
              "        if (!dataTable) return;\n",
              "\n",
              "        const docLinkHtml = 'Like what you see? Visit the ' +\n",
              "          '<a target=\"_blank\" href=https://colab.research.google.com/notebooks/data_table.ipynb>data table notebook</a>'\n",
              "          + ' to learn more about interactive tables.';\n",
              "        element.innerHTML = '';\n",
              "        dataTable['output_type'] = 'display_data';\n",
              "        await google.colab.output.renderOutput(dataTable, element);\n",
              "        const docLink = document.createElement('div');\n",
              "        docLink.innerHTML = docLinkHtml;\n",
              "        element.appendChild(docLink);\n",
              "      }\n",
              "    </script>\n",
              "  </div>\n",
              "\n",
              "\n",
              "<div id=\"df-851b7474-d8c9-4afa-a8d3-f2e26166e0aa\">\n",
              "  <button class=\"colab-df-quickchart\" onclick=\"quickchart('df-851b7474-d8c9-4afa-a8d3-f2e26166e0aa')\"\n",
              "            title=\"Suggest charts\"\n",
              "            style=\"display:none;\">\n",
              "\n",
              "<svg xmlns=\"http://www.w3.org/2000/svg\" height=\"24px\"viewBox=\"0 0 24 24\"\n",
              "     width=\"24px\">\n",
              "    <g>\n",
              "        <path d=\"M19 3H5c-1.1 0-2 .9-2 2v14c0 1.1.9 2 2 2h14c1.1 0 2-.9 2-2V5c0-1.1-.9-2-2-2zM9 17H7v-7h2v7zm4 0h-2V7h2v10zm4 0h-2v-4h2v4z\"/>\n",
              "    </g>\n",
              "</svg>\n",
              "  </button>\n",
              "\n",
              "<style>\n",
              "  .colab-df-quickchart {\n",
              "      --bg-color: #E8F0FE;\n",
              "      --fill-color: #1967D2;\n",
              "      --hover-bg-color: #E2EBFA;\n",
              "      --hover-fill-color: #174EA6;\n",
              "      --disabled-fill-color: #AAA;\n",
              "      --disabled-bg-color: #DDD;\n",
              "  }\n",
              "\n",
              "  [theme=dark] .colab-df-quickchart {\n",
              "      --bg-color: #3B4455;\n",
              "      --fill-color: #D2E3FC;\n",
              "      --hover-bg-color: #434B5C;\n",
              "      --hover-fill-color: #FFFFFF;\n",
              "      --disabled-bg-color: #3B4455;\n",
              "      --disabled-fill-color: #666;\n",
              "  }\n",
              "\n",
              "  .colab-df-quickchart {\n",
              "    background-color: var(--bg-color);\n",
              "    border: none;\n",
              "    border-radius: 50%;\n",
              "    cursor: pointer;\n",
              "    display: none;\n",
              "    fill: var(--fill-color);\n",
              "    height: 32px;\n",
              "    padding: 0;\n",
              "    width: 32px;\n",
              "  }\n",
              "\n",
              "  .colab-df-quickchart:hover {\n",
              "    background-color: var(--hover-bg-color);\n",
              "    box-shadow: 0 1px 2px rgba(60, 64, 67, 0.3), 0 1px 3px 1px rgba(60, 64, 67, 0.15);\n",
              "    fill: var(--button-hover-fill-color);\n",
              "  }\n",
              "\n",
              "  .colab-df-quickchart-complete:disabled,\n",
              "  .colab-df-quickchart-complete:disabled:hover {\n",
              "    background-color: var(--disabled-bg-color);\n",
              "    fill: var(--disabled-fill-color);\n",
              "    box-shadow: none;\n",
              "  }\n",
              "\n",
              "  .colab-df-spinner {\n",
              "    border: 2px solid var(--fill-color);\n",
              "    border-color: transparent;\n",
              "    border-bottom-color: var(--fill-color);\n",
              "    animation:\n",
              "      spin 1s steps(1) infinite;\n",
              "  }\n",
              "\n",
              "  @keyframes spin {\n",
              "    0% {\n",
              "      border-color: transparent;\n",
              "      border-bottom-color: var(--fill-color);\n",
              "      border-left-color: var(--fill-color);\n",
              "    }\n",
              "    20% {\n",
              "      border-color: transparent;\n",
              "      border-left-color: var(--fill-color);\n",
              "      border-top-color: var(--fill-color);\n",
              "    }\n",
              "    30% {\n",
              "      border-color: transparent;\n",
              "      border-left-color: var(--fill-color);\n",
              "      border-top-color: var(--fill-color);\n",
              "      border-right-color: var(--fill-color);\n",
              "    }\n",
              "    40% {\n",
              "      border-color: transparent;\n",
              "      border-right-color: var(--fill-color);\n",
              "      border-top-color: var(--fill-color);\n",
              "    }\n",
              "    60% {\n",
              "      border-color: transparent;\n",
              "      border-right-color: var(--fill-color);\n",
              "    }\n",
              "    80% {\n",
              "      border-color: transparent;\n",
              "      border-right-color: var(--fill-color);\n",
              "      border-bottom-color: var(--fill-color);\n",
              "    }\n",
              "    90% {\n",
              "      border-color: transparent;\n",
              "      border-bottom-color: var(--fill-color);\n",
              "    }\n",
              "  }\n",
              "</style>\n",
              "\n",
              "  <script>\n",
              "    async function quickchart(key) {\n",
              "      const quickchartButtonEl =\n",
              "        document.querySelector('#' + key + ' button');\n",
              "      quickchartButtonEl.disabled = true;  // To prevent multiple clicks.\n",
              "      quickchartButtonEl.classList.add('colab-df-spinner');\n",
              "      try {\n",
              "        const charts = await google.colab.kernel.invokeFunction(\n",
              "            'suggestCharts', [key], {});\n",
              "      } catch (error) {\n",
              "        console.error('Error during call to suggestCharts:', error);\n",
              "      }\n",
              "      quickchartButtonEl.classList.remove('colab-df-spinner');\n",
              "      quickchartButtonEl.classList.add('colab-df-quickchart-complete');\n",
              "    }\n",
              "    (() => {\n",
              "      let quickchartButtonEl =\n",
              "        document.querySelector('#df-851b7474-d8c9-4afa-a8d3-f2e26166e0aa button');\n",
              "      quickchartButtonEl.style.display =\n",
              "        google.colab.kernel.accessAllowed ? 'block' : 'none';\n",
              "    })();\n",
              "  </script>\n",
              "</div>\n",
              "    </div>\n",
              "  </div>\n"
            ],
            "application/vnd.google.colaboratory.intrinsic+json": {
              "type": "dataframe",
              "variable_name": "data",
              "summary": "{\n  \"name\": \"data\",\n  \"rows\": 8675,\n  \"fields\": [\n    {\n      \"column\": \"type\",\n      \"properties\": {\n        \"dtype\": \"category\",\n        \"num_unique_values\": 16,\n        \"samples\": [\n          \"INFJ\",\n          \"ENTP\",\n          \"ENFJ\"\n        ],\n        \"semantic_type\": \"\",\n        \"description\": \"\"\n      }\n    },\n    {\n      \"column\": \"posts\",\n      \"properties\": {\n        \"dtype\": \"string\",\n        \"num_unique_values\": 8675,\n        \"samples\": [\n          \"'This. When I lie it's to avoid an unreasonable response for something I did that was completely justifiable to me but if I was to try to justify to someone else they'd be too hung up on what I did. I...|||Your IQ (SD15): 128|||I typically have very difficult times maintaining friends I've come to realize. I've had people I talk to for years and I still don't want to talk to them... I DID, but then I just got bored of them,...|||An INTJ friend of mine told me she really hates eating because it's so repetitive. As an INTP I don't really feel bothered, I don't really register eating I just do it while I'm thinking about...|||Similar Minds Advanced Test|||INTP 9 sx/so I have a lot of friends but I only have one I speak about how I actually feel with and only 1 other that I talk about what I am actually thinking about - with regards to...|||Getting close to someone and end up wanting to be infinitely close to them and end up merging every damn time.|||Interesting topic, I know two ENFP's, 1 is strange, as an INTP I view some of the stuff she does as 'coming onto me'?  - sort of. She gets really close and is very open to me, just what ENFP's do,...|||As far as I'm aware this is normal in all people, it's not so much your pessimistic self but just that humans are social creatures and you will feel better after socializing for that reason. Being...|||Vajrayaksa  How dare you use Lelouch as an INTP! He is an INTJ I say!|||I normally think about doing this stuff but don't actually do it.|||You'll probably find that commenting on their nihilistic thoughts logically would make them more open. Dismissing ideas will merely make them agree with that idea more as they'll feel a need to...|||Don't worry, calling me thinker is the same.|||INTJ - Winter - Coldest ENTJ - Summer - Actually doing things ENTP - Spring - Bringing out the fun in people INTP - Autumn - No one ever notices this season|||I've known a couple ENTP's, one ENTJ and an INTJ and it kind of went ENTP>ENTJ>ENTP>INTJ I love being able to constantly talk with ENTP's but also they need to know when to stop talking, if an ENTP...|||If you mean actually 1v1ing yourself I also have done this, maybe I'm wrong but I find it pretty easy to think about the most logical move the player I am playing should make with the information...|||Gender: female Age: 19-29 Intelligence: gifted Idea adoption: early-adopter MBTI personality profile: ESFP Closest alternative we found: ESFJ  I think I killed it when it told me to write...|||I'm fine with them, I'm more on shortage of people I'd ever want to do them with but that's on the grounds that any socialising that could be done could just as well be done over skype without the...|||I used to use pencils then I was told that my teachers wanted me to use pens only - so I used pens only. I haven't used a pencil - excluding my games of naughts and crosses earlier - in a couple...|||I'd love to own either a calm house out somewhere distant with a porch and a log cabin aesthetic - fuck it, I want a log cabin. OR I'd actually really like the idea of being in one of those smokey...|||Yeah I enjoy listening to lyrics but it doesn't make much of a difference if they're present or not, if they are there they're just another part of the instrumental I don't necessarily listen to...|||More often then not someone is only going to be fully entering my world if they invite me into theirs first and it's similar or we're friends on the internet - because then there are few...|||What did you get me today?  My head = Shit, shit, shit what did I miss, is it your birthday? Was I supposed to get you something? Are we that good friends that I should be buying you stuff? I...|||I frequently say it as an off hand thing, someone does something really awesome and I say fuck yeah I love you man or something like that. If I was to say it in a genuine way then it'd feel really...|||So something strange has been happening recently, my interest was drawn to naughts and crosses and how I could make it more enjoyable to play. I started by increasing the grid size and tried...|||You could tell them your thoughts. You could not tell them your thoughts and continue to brew over it. I think that there's no reason to be ashamed or annoyed about anything and if you don't...|||loudly, whilst he drew his|||and the baby platypi quivered|||particularly in the higher regions|||Starting with a lingering feeling|||What's the point of stopping? Why does it matter what they're called? Guilty pleasures are pleasures for a reason, does it matter that much?|||their own god dam story|||post multiple times to do|||It's impressive how people would|||Maximum of five words per line, feel free to say other stuff in the most but make sure it's clear which is the five words.     Once upon a time in|||someone who appreciates c.c. Fuck yeah!|||Yeezus can't we come to a reasonable conclusion without you picking a fight? It's not being open minded.|||More often then not I judge them purely by how they judge me, I have a dark sense of humor that I'm not exactly secretive about, I get along with most people on the grounds that I'm just friendly to...|||I chose my avatar as it's an awesome art work of Kaneki from Tokyo Ghoul and by god I loved the manga, love tragedies. Name is a slightly altered version of my name, George - Georgius. Liked the Halo...|||Violence in this situation would probably be a faster way to get things done for both parties involved and especially on the receiving end, trying to talk sense into someone who just said something...|||But surely the point that everyone would be worse off initially isn't relevant? Rebuilding a system would obviously have it's issues here and there.  I'm not crying revolution and I'm not being...|||We'd call it Diagon Alley!|||I'm with you, I make a pretty big point of not being a person for people to expect feelings from, I want to be that person but I just feel wrong, someones crying their eyes out and here I am lying...|||Good call but that's just how I read it ^^'|||What about a four dimensional plane.|||Why airplane why not aeroplane?|||Hit them for having the expectation that you should live up to their expectations which is infuriating in and of itself probably.|||It's just because hitting a women is politically incorrect and some women will use that to their advantage.|||What he's saying is that they should assume that if they say something worthy of being hit for, that they should be grateful when they're not hit for it, not expect not to be hit just on the basis...|||Is it particularly common amongst INTP's and other types to just acknowledge another sides point of view even though socially you shouldn't. What I mean by this is I can't have conversation with...'\",\n          \"'I said zero flexibility and little time for dating. Going around sifting through dates to find one that clicks isn't going to be as viable.  That has nothing to do with maintaining a relationship I...|||How you've come to the conclusion I have nothing to offer  merely because I am busy is beyond me.       No not really. Again, more made up stuff.|||okay, this isn't cool.  you're specifically looking to get into a relationship because you're about to enter a life phase where you will not have any resources to give to a relationship?   that is...|||I do take it slow (that's why I'm still single), but I'm not interested in making friends. I  have friends. Enough for my liking. I'm interested in going on dates with the intent of entering a...|||Absolutely not for me. I find the idea repugnant, actually.|||People could have been polite. Maybe average is a more conservative bet. And I'm not claiming I'm a social butterfly. I'm just a normal guy who is introverted but not a social doofus.  I don't...|||I'm probably giving up the online thing here when my next subscription runs out. After that I really don't know where to look. Bars are a definite no. I don't understand where people meet their...|||I've tried both ways, actually. The last few women I have gone out with have gotten really weird and/or ignored my backhanded compliments. I don't know what to do anymore. Seems I get screwed either...|||I'm actually pretty healthy.     Sorry you feel that way. Not sure which ones you met, but assholes exist everywhere. The number isn't anywhere near 99% though.|||If anything I err on the side of being indifferent. Definitely not overeager.|||Yeah my close friends don't live near me anymore.  The issue is that I have been meeting people, a good amount, and nothing works. I want to know why it is that deformed, infirm, mentally unstable,...|||My friends are in worse positions than I am. Asking them isn't going to help.   As far as feedback, not really because that seems like an extraordinarily awkward thing to ask someone you barely...|||So, I'm a 26 year old male who has been striking out time and time again when it comes to relationships. I've been in one relationship my entire life that lasted like 1.5 years and ended when I was...|||I don't think this sort of dating method is very reasonable, and at best, it is counterproductive. Being friends first just throws a wrench in what is normally a smooth dating process. When you fear...|||Never was a kiss.|||I appreciate the feedback. I think I'm just going to tell her we shouldn't hang out unless she can dedicate a decent amount of time to it. What is happening right now is dragging things out and...|||I don't know. After thinking more, I'm on the verge of giving up. It has nothing to do with seeing her infrequently, or not making it official or what have you. It's that she keeps things...|||I don't know. I'm not a model or anything but I'm decent looking. She's drop dead gorgeous and nice and smart. Guys are always after her it seems. But I'm also smarter and have better career...|||I like your answer, but maybe I'm just being optimistic. It is basically, what I've been doing. I can't shake the feeling that she wouldn't be giving me any of her time if she weren't interested and...|||How am I supposed to know if an INFJ just wants to be friends? Things have been very weird with an INFJ I've been seeing. I've been very upfront about my intentions and she essentially told me she...|||Interesting. I find it unusual INFJs are known for taking forever to open up and trust people yet all the responses so far have indicated kissing in 3 or fewer dates....|||My INFJ friend has been with an INTJ, and i don't want to bust your confidence but even though she liked him at first, she soon found out that he was putting her down and felt caged. I can see that...|||Enlighten us infjs. Also indicate your gender and if you initiated.|||Well there was more than that. She also said she was basically trying to figure out if I'm trustworthy and decent.|||Those two things seem at odds. How can you be simultaneously not saying things that need to be said but also being proactively aggressive?|||Pretty much yeah. Women just do not enjoy my company on any level. I'm in the same situation. Never had any female friends, dated one person in my life and it lasted a little less than two years. The...|||I don't think that is going to help me dig myself out of the very clingy seeming hole I dug myself. I basically asked her if she knew I was romantically interested and she responded of course lol...|||I should have just let things proceed at a natural pace. Pretty pissed at myself. About zero chance she speaks to me again.|||I read through most of that thread. From what I can tell I never did anything egregious. Good chance she lost interest after my bluntness though lol.|||I broke that off shortly after my post. I felt like a slime ball. I only did it because people were telling me she's a lost cause and I should see other people. BTW I have a very well developed...|||Update on this. Told her I liked her and got no reassurance she liked me or even that she wasn't interested. Those who said she was ambivalent were right. I'm pretty much calling it off at this point...|||Yeah so I told her and didn't get an affirmation she liked me nor that she didn't. She basically said she had known for a while I like her. Pretty much what I expected. Probably going to call it...|||Is the crystal ball reference supposed to mean your guess is as good as mine or what? Edit: guess not :p|||So I've gone on six or so dates with an INFJ over a 3 month period (she's pretty busy, and me too) and recently I feel like progress has been a little glacial. For a bit I thought she was warming up...|||She hates texting.  And yeah, she told me how picky she was about people recently and that normally she wouldn't give anyone the time of day.|||You would literally have to have an autism spectrum disorder. I would know.  Not to mention you don't tell someone who is just friends how much you like them. That would be more than bizarre.|||It's kind of hard to get to the point of officially dating when you have no idea what is going on in her head. For all I know an attempt to kiss her would result in abject horror and assault...|||Spoke to her last night, she essentially said she likes me a lot and would normally never make any time for people unless she was obligated to. But she also indirectly used the word friend but it...|||So I met an INFJ female a while back, and we've been out like five or so times on a date. They go well, we get along, everything seems nice. I find her very attractive and we have quite a bit in...|||'  I don't know, I kind of have a rule that I don't compliment a female on her appearance until she trusts me. I did compliment her personality a few times.  She is extremely cautious from what I...|||Well, now I have a new question. Went on a second date a few days ago and it went well and she said she wanted to meet up again. The problem is, there hasn't been an ounce of flirting or touching...|||She started initiating with me and asked if I'm free soon. -_-    If there is anything to be learned it is don't play the analysis game. You will lose.|||Expectations of....?|||I don't know. I can't really fault a strong introvert for being wary about someone she doesn't really know. Number 2 is cruel, but it is how modern dating works.    Pretty sure this isn't the...|||I don't know. I can't really fault a strong introvert for being wary about someone she doesn't really know. Number 2 is cruel, but it is how modern dating works.    Pretty sure this isn't the...|||Thanks, option 1 seems most likely. It seems whenever I finally get her to open up there is like a cascade of good conversation that finally ensues, but it is like pulling teeth initially. Then I...|||I'm socially retarded and would know that if a random stranger asked for my contact info then asked me out for drinks or lunch then the person probably isn't interested in just being friends.|||So I shouldn't be deterred by the fact she doesn't really ever reach out to me? I don't enjoy appearing like someone who can't take a hint or who puts someone else in an awkward situation. I worry...|||No this seems to fit her pretty well.|||Thanks for the advice everyone. I appreciate your taking the time to respond.'\",\n          \"'This has to be written with bias or something, I'm not sure how you could even say that truthfully. For some reason you put subjectivity for both God and man? It says nothing.    That makes no...|||??? How?  The main priority of the church is written throughout it's texts for the past nearly 2000 years and reverberated throughout the church's dialogues both before and after the incident about...|||That's an annoying phrasing, as it's just obtuse and confusing to newcomers. I don't blame you for your response there.    Why must the revealed knowledge not speak truth but contain a bias...|||There are no priestly desk jobs. The closest thing you have to being a priest that gets you away from people is being a monk and that in itself is very different.  I am telling you they did it out...|||No, you really won't. You can't just go to an INTP and assume their intelligence level. That would end in failure. Don't be afraid to ask big questions when musing with the INTP and just try to...|||Heresy is, like, the core reason most all Christian in-fighting occurs. Everything else is minor disputes about theological opinions.|||That's exceedingly subjective. See what they're interested in, strike up a conversation about it. Definitely ask them their thoughts.|||To dismiss my concept of it is to dismiss all history on the topic, dismiss what the apostles taught, and literally all sects of Christianity. But fine, whatever.|||Do cool shit, discuss ideas, have patience, don't try to judge personally too quickly or control them. ALSO, make the first move to show you're interested in talking with them.|||I used to feel about the same until I read the book Self-Made Man, where a lesbian 'butch' woman dressed like a man and tried to live as one. She noticed herself being considered a feminine man quite...|||I'm not sure what the hell is going on in this thread but I would like to say I know no ENTJs personally, I don't think. It'd be neat, though.|||All churches are forms of political institutions. Catholic and Orthodox ones have the benefit of being centralized. All sects have declared doctrine in one way or another.  You're speaking against...|||And here is the most boring post in the whole thread.|||What part? If it's the idea of a teaching authority, you have a problem with all church until the 13th century. If it's the idea of a group being guided by the Holy Spirit in their decisions on...|||For Catholics, the church has a dual meaning. The whole of the believers (the Body of Christ) and the political institution. For Catholicism, their teachings of Christ are said to be protected by...|||Priests were relocated to other parishes so they may quiet down the criticism of the time and handle thing themselves. Again, poor decision but that was their decision.  The church's first priority...|||Well sure then. Yes, the church did protect child offenders. The church's reasoning was the image of the church itself and the their leadership's own ignorance of the size of the problem. The church...|||Edit: Based double post|||No, it really isn't. The Bible itself is the canon collection of texts. The Bible was established once the theological and historical work was done to establish the canon and it was not modified...|||Yes, nevermind it because the two claims do not contradict each other at all. I could work through how there is no contradiction if you're struggling.    I wouldn't say all, no. That's a...|||? There's no way to tell? But many of them depend on logic and/or history that contradicts or ruins their claims? Granted there are a few cases of we're yet to be able to know but many of it can...|||The problem of induction is a grand way of humbling yourself about scientific findings when you're younger. It brings into question if what we know is what we could call true.|||Rubix cubes.|||Pantheism makes no sense. I'd advise otherwise. Atheism and Abrahamic Theism are the only two rational choices.|||You, motherfucker.|||What is the meaning of everything? The universe exists. We are to learn to love in it.|||Disappointed 24 year old reporting in.  Good luck, OP.|||This is exceedingly naive. The early church, before scripture, applied their teaching to better society. After scripture, it was held in high esteem as a basis to properly better society. Most work...|||From the Catholic Catechism (list of official teaching) here is how we are to read the Bible:  III. THE HOLY SPIRIT, INTERPRETER OF SCRIPTURE   109 In Sacred Scripture, God speaks to man in a...|||I never liked people pointing to the Scandinavian model for the success of their economic system and not their incredible oil and natural resource supply compared to their small populations.|||While shit just got stupid for a moment. Lets try to get back on track.|||You're pretty smart, you know that?  Look at this fucker, she thinks I'm smart. Pfft.|||Exceedingly poor.|||I've just been told I'm bright, but I'm sure most everyone else says the same to the kids.|||And what of you?|||The most efficient way to remove self-doubt is to stop doubting yourself so much. Faith and trust, nigga.|||You suspect wrongly. I like the chatter and I'm being friendly with you. I seriously do hope you have a good day too.|||Indeed you do. Feel free to ask/argue/chat/or bullshit with me if you want. Have a good one, man.|||I'd say that's a stretch to say. Catholics believe the bible was inspired by God but written by men. Orthodox do too. As they assembled the biblical canon I'd have to say they have the greatest say...|||Edit: Welp.|||I see the arguments for inconsistencies. Sometimes they aren't actually inconsistencies. Sometimes they are. I find the simplest example of a true one being the rabbit that is apparently chewing...|||Sorry to take so long to get back to you, my internet has been screwing up horribly.  As for the answer, there was a considerable amount of things that got me off the atheist train but if I were to...|||The believing portion was a long and arduous process for me. I researched culture as a hobby and eventually I rolled around to religion. It was an interesting topic for me and I eventually began to...|||To your first statement... just... what. Where did that even come from? Of course they can know love, though with God they can know it fully, I'd argue.  As for Hell, it's taken a variety of...|||I'm very mixed on him. His criticism of Christianity (and envy, now that I've seen the video) is, while popular, piss poor and Max Scheler did a wonderful job making an argument otherwise on his...|||People believing in something as incontrovertibly true is what gets people into a murderous rage? Why just the incontrovertibly true? Why not the empirically true? Why not just majority opinion? To...|||Sure thing. Sounds sorta similar to the Epicurean Paradox.  Suffering/free will exists to strengthen the good. If you create a people so they may know love they cannot sincerely know love if they...|||Yo. Christian INTP here.  Anything you want?|||It's not we can make healthy children! it's we only let the healthy babies live! which is the issue. It's a moral issue about the innate value of life.|||249210'\"\n        ],\n        \"semantic_type\": \"\",\n        \"description\": \"\"\n      }\n    }\n  ]\n}"
            }
          },
          "metadata": {},
          "execution_count": 5
        }
      ]
    },
    {
      "cell_type": "code",
      "source": [
        "data.groupby('type').count().sort_values(by='posts').plot(kind='barh')"
      ],
      "metadata": {
        "colab": {
          "base_uri": "https://localhost:8080/",
          "height": 447
        },
        "id": "ybVwo06Jb7GW",
        "outputId": "58548457-3914-4320-a604-7ed59333728f"
      },
      "execution_count": 51,
      "outputs": [
        {
          "output_type": "execute_result",
          "data": {
            "text/plain": [
              "<Axes: ylabel='type'>"
            ]
          },
          "metadata": {},
          "execution_count": 51
        },
        {
          "output_type": "display_data",
          "data": {
            "text/plain": [
              "<Figure size 640x480 with 1 Axes>"
            ],
            "image/png": "[encoded data removed]"
          },
          "metadata": {}
        }
      ]
    },
    {
      "cell_type": "code",
      "source": [
        "post_list = data.loc[0].values[1].split('|||')"
      ],
      "metadata": {
        "id": "O9D58pZ1ei4r"
      },
      "execution_count": 19,
      "outputs": []
    },
    {
      "cell_type": "code",
      "source": [
        "len(post_list)"
      ],
      "metadata": {
        "colab": {
          "base_uri": "https://localhost:8080/"
        },
        "id": "Ent_Pvt8iExG",
        "outputId": "77502475-ca0c-489f-f93b-e38557c0f063"
      },
      "execution_count": 20,
      "outputs": [
        {
          "output_type": "execute_result",
          "data": {
            "text/plain": [
              "50"
            ]
          },
          "metadata": {},
          "execution_count": 20
        }
      ]
    },
    {
      "cell_type": "code",
      "source": [
        "post_list"
      ],
      "metadata": {
        "colab": {
          "base_uri": "https://localhost:8080/"
        },
        "id": "AyYQRl6ajN2x",
        "outputId": "3bee6037-552e-4b30-aaa2-b4a862d5f682"
      },
      "execution_count": 47,
      "outputs": [
        {
          "output_type": "execute_result",
          "data": {
            "text/plain": [
              "[\"'http://www.youtube.com/watch?v=qsXHcwe3krw\",\n",
              " 'http://41.media.tumblr.com/tumblr_lfouy03PMA1qa1rooo1_500.jpg',\n",
              " 'enfp and intj moments  https://www.youtube.com/watch?v=iz7lE1g4XM4  sportscenter not top ten plays  https://www.youtube.com/watch?v=uCdfze1etec  pranks',\n",
              " 'What has been the most life-changing experience in your life?',\n",
              " 'http://www.youtube.com/watch?v=vXZeYwwRDw8   http://www.youtube.com/watch?v=u8ejam5DP3E  On repeat for most of today.',\n",
              " 'May the PerC Experience immerse you.',\n",
              " 'The last thing my INFJ friend posted on his facebook before committing suicide the next day. Rest in peace~   http://vimeo.com/22842206',\n",
              " \"Hello ENFJ7. Sorry to hear of your distress. It's only natural for a relationship to not be perfection all the time in every moment of existence. Try to figure the hard times as times of growth, as...\",\n",
              " '84389  84390  http://wallpaperpassion.com/upload/23700/friendship-boy-and-girl-wallpaper.jpg  http://assets.dornob.com/wp-content/uploads/2010/04/round-home-design.jpg ...',\n",
              " 'Welcome and stuff.',\n",
              " 'http://playeressence.com/wp-content/uploads/2013/08/RED-red-the-pokemon-master-32560474-450-338.jpg  Game. Set. Match.',\n",
              " \"Prozac, wellbrutin, at least thirty minutes of moving your legs (and I don't mean moving them while sitting in your same desk chair), weed in moderation (maybe try edibles as a healthier alternative...\",\n",
              " \"Basically come up with three items you've determined that each type (or whichever types you want to do) would more than likely use, given each types' cognitive functions and whatnot, when left by...\",\n",
              " 'All things in moderation.  Sims is indeed a video game, and a good one at that. Note: a good one at that is somewhat subjective in that I am not completely promoting the death of any given Sim...',\n",
              " 'Dear ENFP:  What were your favorite video games growing up and what are your now, current favorite video games? :cool:',\n",
              " 'https://www.youtube.com/watch?v=QyPqT8umzmY',\n",
              " 'It appears to be too late. :sad:',\n",
              " \"There's someone out there for everyone.\",\n",
              " 'Wait... I thought confidence was a good thing.',\n",
              " \"I just cherish the time of solitude b/c i revel within my inner world more whereas most other time i'd be workin... just enjoy the me time while you can. Don't worry, people will always be around to...\",\n",
              " \"Yo entp ladies... if you're into a complimentary personality,well, hey.\",\n",
              " '... when your main social outlet is xbox live conversations and even then you verbally fatigue quickly.',\n",
              " 'http://www.youtube.com/watch?v=gDhy7rdfm14  I really dig the part from 1:46 to 2:50',\n",
              " 'http://www.youtube.com/watch?v=msqXffgh7b8',\n",
              " 'Banned because this thread requires it of me.',\n",
              " 'Get high in backyard, roast and eat marshmellows in backyard while conversing over something intellectual, followed by massages and kisses.',\n",
              " 'http://www.youtube.com/watch?v=Mw7eoU3BMbE',\n",
              " 'http://www.youtube.com/watch?v=4V2uYORhQOk',\n",
              " 'http://www.youtube.com/watch?v=SlVmgFQQ0TI',\n",
              " \"Banned for too many b's in that sentence. How could you! Think of the B!\",\n",
              " 'Banned for watching movies in the corner with the dunces.',\n",
              " 'Banned because Health class clearly taught you nothing about peer pressure.',\n",
              " 'Banned for a whole host of reasons!',\n",
              " 'http://www.youtube.com/watch?v=IRcrv41hgz4',\n",
              " \"1) Two baby deer on left and right munching on a beetle in the middle.  2) Using their own blood, two cavemen diary today's latest happenings on their designated cave diary wall.  3) I see it as...\",\n",
              " 'a pokemon world  an infj society  everyone becomes an optimist',\n",
              " '49142',\n",
              " 'http://www.youtube.com/watch?v=ZRCEq_JFeFM',\n",
              " 'http://discovermagazine.com/2012/jul-aug/20-things-you-didnt-know-about-deserts/desert.jpg',\n",
              " 'http://oyster.ignimgs.com/mediawiki/apis.ign.com/pokemon-silver-version/d/dd/Ditto.gif',\n",
              " 'http://www.serebii.net/potw-dp/Scizor.jpg',\n",
              " \"Not all artists are artists because they draw. It's the idea that counts in forming something of your own... like a signature.\",\n",
              " \"Welcome to the robot ranks, person who downed my self-esteem cuz I'm not an avid signature artist like herself. :proud:\",\n",
              " 'Banned for taking all the room under my bed. Ya gotta learn to share with the roaches.',\n",
              " 'http://www.youtube.com/watch?v=w8IgImn57aQ',\n",
              " 'Banned for being too much of a thundering, grumbling kind of storm... yep.',\n",
              " \"Ahh... old high school music I haven't heard in ages.   http://www.youtube.com/watch?v=dcCRUPCdB1w\",\n",
              " \"I failed a public speaking class a few years ago and I've sort of learned what I could do better were I to be in that position again. A big part of my failure was just overloading myself with too...\",\n",
              " \"I like this person's mentality. He's a confirmed INTJ by the way. http://www.youtube.com/watch?v=hGKLI-GEc6M\",\n",
              " \"Move to the Denver area and start a new life for myself.'\"]"
            ]
          },
          "metadata": {},
          "execution_count": 47
        }
      ]
    },
    {
      "cell_type": "code",
      "source": [
        "no_url = lambda text: re.sub(r'https?:\\/\\/.*[\\r\\n]*', '', text, flags=re.MULTILINE)\n",
        "\n",
        "[no_url(msg) for msg in post_list if no_url(msg) and len(no_url(msg))>1]"
      ],
      "metadata": {
        "colab": {
          "base_uri": "https://localhost:8080/"
        },
        "id": "_PAIe8gMsjaM",
        "outputId": "9e40feb5-42b6-491d-ac94-48b2d2ce720f"
      },
      "execution_count": 46,
      "outputs": [
        {
          "output_type": "execute_result",
          "data": {
            "text/plain": [
              "['enfp and intj moments  ',\n",
              " 'What has been the most life-changing experience in your life?',\n",
              " 'May the PerC Experience immerse you.',\n",
              " 'The last thing my INFJ friend posted on his facebook before committing suicide the next day. Rest in peace~   ',\n",
              " \"Hello ENFJ7. Sorry to hear of your distress. It's only natural for a relationship to not be perfection all the time in every moment of existence. Try to figure the hard times as times of growth, as...\",\n",
              " '84389  84390  ',\n",
              " 'Welcome and stuff.',\n",
              " \"Prozac, wellbrutin, at least thirty minutes of moving your legs (and I don't mean moving them while sitting in your same desk chair), weed in moderation (maybe try edibles as a healthier alternative...\",\n",
              " \"Basically come up with three items you've determined that each type (or whichever types you want to do) would more than likely use, given each types' cognitive functions and whatnot, when left by...\",\n",
              " 'All things in moderation.  Sims is indeed a video game, and a good one at that. Note: a good one at that is somewhat subjective in that I am not completely promoting the death of any given Sim...',\n",
              " 'Dear ENFP:  What were your favorite video games growing up and what are your now, current favorite video games? :cool:',\n",
              " 'It appears to be too late. :sad:',\n",
              " \"There's someone out there for everyone.\",\n",
              " 'Wait... I thought confidence was a good thing.',\n",
              " \"I just cherish the time of solitude b/c i revel within my inner world more whereas most other time i'd be workin... just enjoy the me time while you can. Don't worry, people will always be around to...\",\n",
              " \"Yo entp ladies... if you're into a complimentary personality,well, hey.\",\n",
              " '... when your main social outlet is xbox live conversations and even then you verbally fatigue quickly.',\n",
              " 'Banned because this thread requires it of me.',\n",
              " 'Get high in backyard, roast and eat marshmellows in backyard while conversing over something intellectual, followed by massages and kisses.',\n",
              " \"Banned for too many b's in that sentence. How could you! Think of the B!\",\n",
              " 'Banned for watching movies in the corner with the dunces.',\n",
              " 'Banned because Health class clearly taught you nothing about peer pressure.',\n",
              " 'Banned for a whole host of reasons!',\n",
              " \"1) Two baby deer on left and right munching on a beetle in the middle.  2) Using their own blood, two cavemen diary today's latest happenings on their designated cave diary wall.  3) I see it as...\",\n",
              " 'a pokemon world  an infj society  everyone becomes an optimist',\n",
              " '49142',\n",
              " \"Not all artists are artists because they draw. It's the idea that counts in forming something of your own... like a signature.\",\n",
              " \"Welcome to the robot ranks, person who downed my self-esteem cuz I'm not an avid signature artist like herself. :proud:\",\n",
              " 'Banned for taking all the room under my bed. Ya gotta learn to share with the roaches.',\n",
              " 'Banned for being too much of a thundering, grumbling kind of storm... yep.',\n",
              " \"Ahh... old high school music I haven't heard in ages.   \",\n",
              " \"I failed a public speaking class a few years ago and I've sort of learned what I could do better were I to be in that position again. A big part of my failure was just overloading myself with too...\",\n",
              " \"I like this person's mentality. He's a confirmed INTJ by the way. \",\n",
              " \"Move to the Denver area and start a new life for myself.'\"]"
            ]
          },
          "metadata": {},
          "execution_count": 46
        }
      ]
    },
    {
      "cell_type": "code",
      "source": [],
      "metadata": {
        "id": "HmhLauB0pxTH"
      },
      "execution_count": null,
      "outputs": []
    }
  ]
}